{
  "nbformat": 4,
  "nbformat_minor": 0,
  "metadata": {
    "colab": {
      "name": "2Moringa_Data_Science_Prep_W3_Independent_Project_2019_07_Linda_Agesa_Python ",
      "version": "0.3.2",
      "provenance": [],
      "collapsed_sections": [],
      "include_colab_link": true
    },
    "kernelspec": {
      "name": "python3",
      "display_name": "Python 3"
    },
    "accelerator": "GPU"
  },
  "cells": [
    {
      "cell_type": "markdown",
      "metadata": {
        "id": "view-in-github",
        "colab_type": "text"
      },
      "source": [
        "<a href=\"https://colab.research.google.com/github/Linda-Agesa/MTIU/blob/master/2Moringa_Data_Science_Prep_W3_Independent_Project_2019_07_Linda_Agesa_Python.ipynb\" target=\"_parent\"><img src=\"https://colab.research.google.com/assets/colab-badge.svg\" alt=\"Open In Colab\"/></a>"
      ]
    },
    {
      "cell_type": "markdown",
      "metadata": {
        "id": "6FD2wcJgCDc1",
        "colab_type": "text"
      },
      "source": [
        "**MTN Tech-Infra Ugrade Analysis**\n",
        "\n",
        "Currently MTN Cote d'Ivoire would like to upgrade its technology infrastructure for its mobile users in Ivory Coast. Studying the given dataset, how does MTN Cote d'Ivoire go about the upgrade of its infrastructure strategy within the given cities?\n",
        "\n",
        "The telecom data provided for this project is only a sample ( i.e. for only three days). The data files that you will need for this project will be as follows:\n",
        "\n",
        "1.cells_geo_description.xlsx [Link] (Links to an external site.)\n",
        "\n",
        "2.cells_geo.csv [Link] (Links to an external site.)\n",
        "\n",
        "3.CDR_description.xlsx [Link] (Links to an external site.)\n",
        "\n",
        "4.CDR 20120507 [http://bit.ly/TelecomDataset1] (Links to an external site.)\n",
        "\n",
        "5.CDR 20120508 [http://bit.ly/TelecomDataset2] (Links to an external site.)\n",
        "\n",
        "6.CDR 20120509 [http://bit.ly/TelecomDataset3]\n",
        "\n"
      ]
    },
    {
      "cell_type": "markdown",
      "metadata": {
        "id": "Chq5DTXOCL2Z",
        "colab_type": "text"
      },
      "source": [
        "# **Loading Our Libraries and Files**"
      ]
    },
    {
      "cell_type": "code",
      "metadata": {
        "id": "7OwT-1HzCADG",
        "colab_type": "code",
        "colab": {}
      },
      "source": [
        "import pandas as pd\n",
        "import numpy as np"
      ],
      "execution_count": 0,
      "outputs": []
    },
    {
      "cell_type": "code",
      "metadata": {
        "id": "xTXLjKH6CfA_",
        "colab_type": "code",
        "colab": {
          "base_uri": "https://localhost:8080/",
          "height": 386
        },
        "outputId": "846a00f6-1ce1-4934-aab6-59518cc7fdb3"
      },
      "source": [
        "#Loading the datasets onto our environment\n",
        "#This DataFrame gives a decription on the information on the cells_geo dataset\n",
        "\n",
        "description_cg = pd.read_excel('cells_geo_description.xlsx')\n",
        "description_cg"
      ],
      "execution_count": 3,
      "outputs": [
        {
          "output_type": "execute_result",
          "data": {
            "text/html": [
              "<div>\n",
              "<style scoped>\n",
              "    .dataframe tbody tr th:only-of-type {\n",
              "        vertical-align: middle;\n",
              "    }\n",
              "\n",
              "    .dataframe tbody tr th {\n",
              "        vertical-align: top;\n",
              "    }\n",
              "\n",
              "    .dataframe thead th {\n",
              "        text-align: right;\n",
              "    }\n",
              "</style>\n",
              "<table border=\"1\" class=\"dataframe\">\n",
              "  <thead>\n",
              "    <tr style=\"text-align: right;\">\n",
              "      <th></th>\n",
              "      <th>Column name</th>\n",
              "      <th>Description</th>\n",
              "      <th>Format</th>\n",
              "    </tr>\n",
              "  </thead>\n",
              "  <tbody>\n",
              "    <tr>\n",
              "      <th>0</th>\n",
              "      <td>VILLES</td>\n",
              "      <td>City</td>\n",
              "      <td>String</td>\n",
              "    </tr>\n",
              "    <tr>\n",
              "      <th>1</th>\n",
              "      <td>STATUS</td>\n",
              "      <td>In Service or not</td>\n",
              "      <td>String</td>\n",
              "    </tr>\n",
              "    <tr>\n",
              "      <th>2</th>\n",
              "      <td>LOCALISATION</td>\n",
              "      <td>in ABIDJAN or not</td>\n",
              "      <td>String</td>\n",
              "    </tr>\n",
              "    <tr>\n",
              "      <th>3</th>\n",
              "      <td>DECOUPZONE</td>\n",
              "      <td>Geographical Zone</td>\n",
              "      <td>String</td>\n",
              "    </tr>\n",
              "    <tr>\n",
              "      <th>4</th>\n",
              "      <td>ZONENAME</td>\n",
              "      <td>Name of Zone</td>\n",
              "      <td>String</td>\n",
              "    </tr>\n",
              "    <tr>\n",
              "      <th>5</th>\n",
              "      <td>LONGITUDE</td>\n",
              "      <td>Longitude</td>\n",
              "      <td>Float</td>\n",
              "    </tr>\n",
              "    <tr>\n",
              "      <th>6</th>\n",
              "      <td>LATITUDE</td>\n",
              "      <td>Latitude</td>\n",
              "      <td>Float</td>\n",
              "    </tr>\n",
              "    <tr>\n",
              "      <th>7</th>\n",
              "      <td>REGION</td>\n",
              "      <td>Region</td>\n",
              "      <td>String</td>\n",
              "    </tr>\n",
              "    <tr>\n",
              "      <th>8</th>\n",
              "      <td>AREA</td>\n",
              "      <td>Area</td>\n",
              "      <td>String</td>\n",
              "    </tr>\n",
              "    <tr>\n",
              "      <th>9</th>\n",
              "      <td>CELL_ID</td>\n",
              "      <td>ID of the cell</td>\n",
              "      <td>String</td>\n",
              "    </tr>\n",
              "    <tr>\n",
              "      <th>10</th>\n",
              "      <td>SITE_CODE</td>\n",
              "      <td>Site (there are several cells per site, severa...</td>\n",
              "      <td>String</td>\n",
              "    </tr>\n",
              "  </tbody>\n",
              "</table>\n",
              "</div>"
            ],
            "text/plain": [
              "     Column name                                        Description  Format\n",
              "0         VILLES                                               City  String\n",
              "1         STATUS                                  In Service or not  String\n",
              "2   LOCALISATION                                  in ABIDJAN or not  String\n",
              "3     DECOUPZONE                                  Geographical Zone  String\n",
              "4       ZONENAME                                       Name of Zone  String\n",
              "5      LONGITUDE                                          Longitude   Float\n",
              "6       LATITUDE                                           Latitude   Float\n",
              "7         REGION                                             Region  String\n",
              "8           AREA                                               Area  String\n",
              "9        CELL_ID                                     ID of the cell  String\n",
              "10     SITE_CODE  Site (there are several cells per site, severa...  String"
            ]
          },
          "metadata": {
            "tags": []
          },
          "execution_count": 3
        }
      ]
    },
    {
      "cell_type": "code",
      "metadata": {
        "id": "YxLGVo9VC_BE",
        "colab_type": "code",
        "colab": {
          "base_uri": "https://localhost:8080/",
          "height": 355
        },
        "outputId": "adb1cf32-a1d3-44f5-8290-74ea8bb9dc22"
      },
      "source": [
        "#This DataFrame gives a description of the information on the CDR files\n",
        "\n",
        "description_cdr = pd.read_excel('CDR_description.xlsx')\n",
        "description_cdr\n"
      ],
      "execution_count": 4,
      "outputs": [
        {
          "output_type": "execute_result",
          "data": {
            "text/html": [
              "<div>\n",
              "<style scoped>\n",
              "    .dataframe tbody tr th:only-of-type {\n",
              "        vertical-align: middle;\n",
              "    }\n",
              "\n",
              "    .dataframe tbody tr th {\n",
              "        vertical-align: top;\n",
              "    }\n",
              "\n",
              "    .dataframe thead th {\n",
              "        text-align: right;\n",
              "    }\n",
              "</style>\n",
              "<table border=\"1\" class=\"dataframe\">\n",
              "  <thead>\n",
              "    <tr style=\"text-align: right;\">\n",
              "      <th></th>\n",
              "      <th>Column name</th>\n",
              "      <th>Description</th>\n",
              "      <th>Format</th>\n",
              "    </tr>\n",
              "  </thead>\n",
              "  <tbody>\n",
              "    <tr>\n",
              "      <th>0</th>\n",
              "      <td>PRODUCT</td>\n",
              "      <td>Voice or SMS</td>\n",
              "      <td>String</td>\n",
              "    </tr>\n",
              "    <tr>\n",
              "      <th>1</th>\n",
              "      <td>VALUE</td>\n",
              "      <td>Billing price</td>\n",
              "      <td>Integer</td>\n",
              "    </tr>\n",
              "    <tr>\n",
              "      <th>2</th>\n",
              "      <td>DATE_TIME</td>\n",
              "      <td>Time in format yyyy-MM-dd hh:mm:ss.0</td>\n",
              "      <td>String</td>\n",
              "    </tr>\n",
              "    <tr>\n",
              "      <th>3</th>\n",
              "      <td>CELL_ON_SITE</td>\n",
              "      <td>Which cell in the site was used (not needed here)</td>\n",
              "      <td>Integer</td>\n",
              "    </tr>\n",
              "    <tr>\n",
              "      <th>4</th>\n",
              "      <td>DW_A_NUMBER_INT</td>\n",
              "      <td>Anonymized phone number of the person for whic...</td>\n",
              "      <td>String</td>\n",
              "    </tr>\n",
              "    <tr>\n",
              "      <th>5</th>\n",
              "      <td>DW_B_NUMBER_INT</td>\n",
              "      <td>Anonymized phone number of the counterparty</td>\n",
              "      <td>String</td>\n",
              "    </tr>\n",
              "    <tr>\n",
              "      <th>6</th>\n",
              "      <td>COUNTRY_A</td>\n",
              "      <td>Country of party A (useless here)</td>\n",
              "      <td>String</td>\n",
              "    </tr>\n",
              "    <tr>\n",
              "      <th>7</th>\n",
              "      <td>COUNTRY_B</td>\n",
              "      <td>Country of party B (useless here)</td>\n",
              "      <td>String</td>\n",
              "    </tr>\n",
              "    <tr>\n",
              "      <th>8</th>\n",
              "      <td>CELL_ID</td>\n",
              "      <td>ID of the cell</td>\n",
              "      <td>String</td>\n",
              "    </tr>\n",
              "    <tr>\n",
              "      <th>9</th>\n",
              "      <td>SITE_ID</td>\n",
              "      <td>ID of the SITE</td>\n",
              "      <td>String</td>\n",
              "    </tr>\n",
              "  </tbody>\n",
              "</table>\n",
              "</div>"
            ],
            "text/plain": [
              "       Column name                                        Description   Format\n",
              "0          PRODUCT                                       Voice or SMS   String\n",
              "1            VALUE                                      Billing price  Integer\n",
              "2        DATE_TIME               Time in format yyyy-MM-dd hh:mm:ss.0   String\n",
              "3     CELL_ON_SITE  Which cell in the site was used (not needed here)  Integer\n",
              "4  DW_A_NUMBER_INT  Anonymized phone number of the person for whic...   String\n",
              "5  DW_B_NUMBER_INT        Anonymized phone number of the counterparty   String\n",
              "6        COUNTRY_A                  Country of party A (useless here)   String\n",
              "7        COUNTRY_B                  Country of party B (useless here)   String\n",
              "8          CELL_ID                                     ID of the cell   String\n",
              "9          SITE_ID                                     ID of the SITE   String"
            ]
          },
          "metadata": {
            "tags": []
          },
          "execution_count": 4
        }
      ]
    },
    {
      "cell_type": "code",
      "metadata": {
        "id": "5_h2ZlPSDKc0",
        "colab_type": "code",
        "colab": {
          "base_uri": "https://localhost:8080/",
          "height": 202
        },
        "outputId": "4b646ba3-0689-418e-e8b7-e914da50b549"
      },
      "source": [
        "#Loading the cells_geo csv file onto the environment\n",
        "\n",
        "geo_df = pd.read_csv('cells_geo.csv', delimiter = ';')\n",
        "geo_df.head()"
      ],
      "execution_count": 2,
      "outputs": [
        {
          "output_type": "execute_result",
          "data": {
            "text/html": [
              "<div>\n",
              "<style scoped>\n",
              "    .dataframe tbody tr th:only-of-type {\n",
              "        vertical-align: middle;\n",
              "    }\n",
              "\n",
              "    .dataframe tbody tr th {\n",
              "        vertical-align: top;\n",
              "    }\n",
              "\n",
              "    .dataframe thead th {\n",
              "        text-align: right;\n",
              "    }\n",
              "</style>\n",
              "<table border=\"1\" class=\"dataframe\">\n",
              "  <thead>\n",
              "    <tr style=\"text-align: right;\">\n",
              "      <th></th>\n",
              "      <th>Unnamed: 0</th>\n",
              "      <th>VILLES</th>\n",
              "      <th>STATUS</th>\n",
              "      <th>LOCALISATION</th>\n",
              "      <th>DECOUPZONE</th>\n",
              "      <th>ZONENAME</th>\n",
              "      <th>LONGITUDE</th>\n",
              "      <th>LATITUDE</th>\n",
              "      <th>REGION</th>\n",
              "      <th>AREA</th>\n",
              "      <th>CELL_ID</th>\n",
              "      <th>SITE_CODE</th>\n",
              "    </tr>\n",
              "  </thead>\n",
              "  <tbody>\n",
              "    <tr>\n",
              "      <th>0</th>\n",
              "      <td>0</td>\n",
              "      <td>ADJAME</td>\n",
              "      <td>In Service</td>\n",
              "      <td>ABIDJAN</td>\n",
              "      <td>\"Abidjan_EST</td>\n",
              "      <td>AGBANNEW</td>\n",
              "      <td>-4.000667</td>\n",
              "      <td>5.368194</td>\n",
              "      <td>LAGUNE</td>\n",
              "      <td>NaN</td>\n",
              "      <td>fbb2e75af3</td>\n",
              "      <td>0bb492ef17</td>\n",
              "    </tr>\n",
              "    <tr>\n",
              "      <th>1</th>\n",
              "      <td>1</td>\n",
              "      <td>ADJAME</td>\n",
              "      <td>In Service</td>\n",
              "      <td>ABIDJAN</td>\n",
              "      <td>\"Abidjan_EST</td>\n",
              "      <td>AGBANNEW</td>\n",
              "      <td>-4.000667</td>\n",
              "      <td>5.368194</td>\n",
              "      <td>LAGUNE</td>\n",
              "      <td>NaN</td>\n",
              "      <td>1502501d78</td>\n",
              "      <td>0bb492ef17</td>\n",
              "    </tr>\n",
              "    <tr>\n",
              "      <th>2</th>\n",
              "      <td>2</td>\n",
              "      <td>ADJAME</td>\n",
              "      <td>In Service</td>\n",
              "      <td>ABIDJAN</td>\n",
              "      <td>\"Abidjan_EST</td>\n",
              "      <td>AGBANNEW</td>\n",
              "      <td>-4.000667</td>\n",
              "      <td>5.368194</td>\n",
              "      <td>LAGUNE</td>\n",
              "      <td>NaN</td>\n",
              "      <td>0c2e182a0c</td>\n",
              "      <td>0bb492ef17</td>\n",
              "    </tr>\n",
              "    <tr>\n",
              "      <th>3</th>\n",
              "      <td>3</td>\n",
              "      <td>ASSINIE</td>\n",
              "      <td>In Service</td>\n",
              "      <td>INTERIEUR</td>\n",
              "      <td>Grand-EST</td>\n",
              "      <td>ASSINIE\"</td>\n",
              "      <td>-3.488467</td>\n",
              "      <td>5.158761</td>\n",
              "      <td>SUD COMOE</td>\n",
              "      <td>NaN</td>\n",
              "      <td>69bdfc69fd</td>\n",
              "      <td>8a1e6ce31f</td>\n",
              "    </tr>\n",
              "    <tr>\n",
              "      <th>4</th>\n",
              "      <td>4</td>\n",
              "      <td>ASSINIE</td>\n",
              "      <td>In Service</td>\n",
              "      <td>INTERIEUR</td>\n",
              "      <td>Grand-EST</td>\n",
              "      <td>ASSINIE\"</td>\n",
              "      <td>-3.488467</td>\n",
              "      <td>5.158761</td>\n",
              "      <td>SUD COMOE</td>\n",
              "      <td>NaN</td>\n",
              "      <td>7a1029d2ab</td>\n",
              "      <td>8a1e6ce31f</td>\n",
              "    </tr>\n",
              "  </tbody>\n",
              "</table>\n",
              "</div>"
            ],
            "text/plain": [
              "   Unnamed: 0   VILLES      STATUS  ... AREA     CELL_ID   SITE_CODE\n",
              "0           0   ADJAME  In Service  ...  NaN  fbb2e75af3  0bb492ef17\n",
              "1           1   ADJAME  In Service  ...  NaN  1502501d78  0bb492ef17\n",
              "2           2   ADJAME  In Service  ...  NaN  0c2e182a0c  0bb492ef17\n",
              "3           3  ASSINIE  In Service  ...  NaN  69bdfc69fd  8a1e6ce31f\n",
              "4           4  ASSINIE  In Service  ...  NaN  7a1029d2ab  8a1e6ce31f\n",
              "\n",
              "[5 rows x 12 columns]"
            ]
          },
          "metadata": {
            "tags": []
          },
          "execution_count": 2
        }
      ]
    },
    {
      "cell_type": "code",
      "metadata": {
        "id": "H0vwZ4-tDOp9",
        "colab_type": "code",
        "colab": {
          "base_uri": "https://localhost:8080/",
          "height": 202
        },
        "outputId": "cbee5d9d-105d-4c26-d95f-09e061fc1a08"
      },
      "source": [
        "#read the day 1 dataset onto our environment, iterating through the dataset to get a sample of the dataset.\n",
        "day1 = pd.read_csv('http://bit.ly/TelecomDataset1', iterator = True)\n",
        "\n",
        "telecom_day1 = day1.get_chunk(1000000)\n",
        "telecom_day1.head()"
      ],
      "execution_count": 3,
      "outputs": [
        {
          "output_type": "execute_result",
          "data": {
            "text/html": [
              "<div>\n",
              "<style scoped>\n",
              "    .dataframe tbody tr th:only-of-type {\n",
              "        vertical-align: middle;\n",
              "    }\n",
              "\n",
              "    .dataframe tbody tr th {\n",
              "        vertical-align: top;\n",
              "    }\n",
              "\n",
              "    .dataframe thead th {\n",
              "        text-align: right;\n",
              "    }\n",
              "</style>\n",
              "<table border=\"1\" class=\"dataframe\">\n",
              "  <thead>\n",
              "    <tr style=\"text-align: right;\">\n",
              "      <th></th>\n",
              "      <th>PRODUTC</th>\n",
              "      <th>VALUE</th>\n",
              "      <th>DATETIME</th>\n",
              "      <th>CELL_ON_SITE</th>\n",
              "      <th>DW_A_NUMBER_INT</th>\n",
              "      <th>DW_B_NUMBER_INT</th>\n",
              "      <th>COUNTRY_A</th>\n",
              "      <th>COUNTRY_B</th>\n",
              "      <th>CELL_ID</th>\n",
              "      <th>SITE_ID</th>\n",
              "    </tr>\n",
              "  </thead>\n",
              "  <tbody>\n",
              "    <tr>\n",
              "      <th>0</th>\n",
              "      <td>Voice</td>\n",
              "      <td>0</td>\n",
              "      <td>2012-05-06 23:04:37.0</td>\n",
              "      <td>1</td>\n",
              "      <td>49fae048b547780</td>\n",
              "      <td>1a49f8b0ded9de6</td>\n",
              "      <td>19e2e</td>\n",
              "      <td>19e2e</td>\n",
              "      <td>/TJNe+Mmtu</td>\n",
              "      <td>/TJNe+Mmtu</td>\n",
              "    </tr>\n",
              "    <tr>\n",
              "      <th>1</th>\n",
              "      <td>sms</td>\n",
              "      <td>0</td>\n",
              "      <td>2012-05-06 23:05:25.0</td>\n",
              "      <td>0</td>\n",
              "      <td>7a54a6eaee19e65</td>\n",
              "      <td>93343ba6e41af95</td>\n",
              "      <td>19e2e</td>\n",
              "      <td>19e2e</td>\n",
              "      <td>/+cKZKIp41</td>\n",
              "      <td>/+cKZKIp41</td>\n",
              "    </tr>\n",
              "    <tr>\n",
              "      <th>2</th>\n",
              "      <td>sms</td>\n",
              "      <td>25</td>\n",
              "      <td>2012-05-06 23:05:41.0</td>\n",
              "      <td>0</td>\n",
              "      <td>6008887b0207d82</td>\n",
              "      <td>7aacc9709ce0a20</td>\n",
              "      <td>19e2e</td>\n",
              "      <td>19e2e</td>\n",
              "      <td>/u0FSD+ahi</td>\n",
              "      <td>/u0FSD+ahi</td>\n",
              "    </tr>\n",
              "    <tr>\n",
              "      <th>3</th>\n",
              "      <td>Voice</td>\n",
              "      <td>56</td>\n",
              "      <td>2012-05-06 23:05:42.0</td>\n",
              "      <td>1</td>\n",
              "      <td>7370032e20f4e96</td>\n",
              "      <td>6af4a60e74c91d3</td>\n",
              "      <td>19e2e</td>\n",
              "      <td>19e2e</td>\n",
              "      <td>+cNeJzsTp3</td>\n",
              "      <td>+cNeJzsTp3</td>\n",
              "    </tr>\n",
              "    <tr>\n",
              "      <th>4</th>\n",
              "      <td>Voice</td>\n",
              "      <td>14</td>\n",
              "      <td>2012-05-06 23:06:29.0</td>\n",
              "      <td>1</td>\n",
              "      <td>966ba4656e38e62</td>\n",
              "      <td>02aa736ee555d5c</td>\n",
              "      <td>19e2e</td>\n",
              "      <td>19e2e</td>\n",
              "      <td>051KhYDCpv</td>\n",
              "      <td>051KhYDCpv</td>\n",
              "    </tr>\n",
              "  </tbody>\n",
              "</table>\n",
              "</div>"
            ],
            "text/plain": [
              "  PRODUTC  VALUE               DATETIME  ... COUNTRY_B     CELL_ID     SITE_ID\n",
              "0   Voice      0  2012-05-06 23:04:37.0  ...     19e2e  /TJNe+Mmtu  /TJNe+Mmtu\n",
              "1     sms      0  2012-05-06 23:05:25.0  ...     19e2e  /+cKZKIp41  /+cKZKIp41\n",
              "2     sms     25  2012-05-06 23:05:41.0  ...     19e2e  /u0FSD+ahi  /u0FSD+ahi\n",
              "3   Voice     56  2012-05-06 23:05:42.0  ...     19e2e  +cNeJzsTp3  +cNeJzsTp3\n",
              "4   Voice     14  2012-05-06 23:06:29.0  ...     19e2e  051KhYDCpv  051KhYDCpv\n",
              "\n",
              "[5 rows x 10 columns]"
            ]
          },
          "metadata": {
            "tags": []
          },
          "execution_count": 3
        }
      ]
    },
    {
      "cell_type": "code",
      "metadata": {
        "id": "SqTbQTbdFlMv",
        "colab_type": "code",
        "colab": {
          "base_uri": "https://localhost:8080/",
          "height": 202
        },
        "outputId": "8abd6293-6726-4450-df9d-e1642c316762"
      },
      "source": [
        "#loading the day 2 data to our environment, use an iterator to and pick a sample of the entire dataset\n",
        "day2 = pd.read_csv('http://bit.ly/TelecomDataset2', iterator = True )\n",
        "\n",
        "telecom_day2 = day2.get_chunk(1000000)\n",
        "telecom_day2.head()"
      ],
      "execution_count": 4,
      "outputs": [
        {
          "output_type": "execute_result",
          "data": {
            "text/html": [
              "<div>\n",
              "<style scoped>\n",
              "    .dataframe tbody tr th:only-of-type {\n",
              "        vertical-align: middle;\n",
              "    }\n",
              "\n",
              "    .dataframe tbody tr th {\n",
              "        vertical-align: top;\n",
              "    }\n",
              "\n",
              "    .dataframe thead th {\n",
              "        text-align: right;\n",
              "    }\n",
              "</style>\n",
              "<table border=\"1\" class=\"dataframe\">\n",
              "  <thead>\n",
              "    <tr style=\"text-align: right;\">\n",
              "      <th></th>\n",
              "      <th>PRODUCT</th>\n",
              "      <th>VALUE</th>\n",
              "      <th>DATE_TIME</th>\n",
              "      <th>CELL_ON_SITE</th>\n",
              "      <th>DW_A_NUMBER</th>\n",
              "      <th>DW_B_NUMBER</th>\n",
              "      <th>COUNTRY_A</th>\n",
              "      <th>COUNTRY_B</th>\n",
              "      <th>CELL_ID</th>\n",
              "      <th>SITE_ID</th>\n",
              "    </tr>\n",
              "  </thead>\n",
              "  <tbody>\n",
              "    <tr>\n",
              "      <th>0</th>\n",
              "      <td>sms</td>\n",
              "      <td>0</td>\n",
              "      <td>2012-05-07 23:02:06.0</td>\n",
              "      <td>2</td>\n",
              "      <td>32255675c3b6fe3</td>\n",
              "      <td>1aa7ae01386e9fb</td>\n",
              "      <td>19e2e</td>\n",
              "      <td>19e2e</td>\n",
              "      <td>+854AcBQT2</td>\n",
              "      <td>+854AcBQT2</td>\n",
              "    </tr>\n",
              "    <tr>\n",
              "      <th>1</th>\n",
              "      <td>Voice</td>\n",
              "      <td>0</td>\n",
              "      <td>2012-05-07 23:03:44.0</td>\n",
              "      <td>1</td>\n",
              "      <td>ff16d6ac74c1c64</td>\n",
              "      <td>87d87309c15a8c9</td>\n",
              "      <td>19e2e</td>\n",
              "      <td>19e2e</td>\n",
              "      <td>+854AcBQT2</td>\n",
              "      <td>+854AcBQT2</td>\n",
              "    </tr>\n",
              "    <tr>\n",
              "      <th>2</th>\n",
              "      <td>sms</td>\n",
              "      <td>0</td>\n",
              "      <td>2012-05-07 23:04:06.0</td>\n",
              "      <td>0</td>\n",
              "      <td>98d9f2fb5ff624b</td>\n",
              "      <td>93343ba6e41af95</td>\n",
              "      <td>19e2e</td>\n",
              "      <td>19e2e</td>\n",
              "      <td>+laSrk7g6q</td>\n",
              "      <td>+laSrk7g6q</td>\n",
              "    </tr>\n",
              "    <tr>\n",
              "      <th>3</th>\n",
              "      <td>Voice</td>\n",
              "      <td>37</td>\n",
              "      <td>2012-05-07 23:04:48.0</td>\n",
              "      <td>1</td>\n",
              "      <td>3f9c8a33ec7be1f</td>\n",
              "      <td>7d05a38f89c49d8</td>\n",
              "      <td>19e2e</td>\n",
              "      <td>19e2e</td>\n",
              "      <td>/xvRrCVKoQ</td>\n",
              "      <td>/xvRrCVKoQ</td>\n",
              "    </tr>\n",
              "    <tr>\n",
              "      <th>4</th>\n",
              "      <td>sms</td>\n",
              "      <td>25</td>\n",
              "      <td>2012-05-07 23:04:58.0</td>\n",
              "      <td>1</td>\n",
              "      <td>7bcccc03adf3864</td>\n",
              "      <td>56a5d5430d2fa86</td>\n",
              "      <td>19e2e</td>\n",
              "      <td>19e2e</td>\n",
              "      <td>+bO+qkSonO</td>\n",
              "      <td>+bO+qkSonO</td>\n",
              "    </tr>\n",
              "  </tbody>\n",
              "</table>\n",
              "</div>"
            ],
            "text/plain": [
              "  PRODUCT  VALUE              DATE_TIME  ... COUNTRY_B     CELL_ID     SITE_ID\n",
              "0     sms      0  2012-05-07 23:02:06.0  ...     19e2e  +854AcBQT2  +854AcBQT2\n",
              "1   Voice      0  2012-05-07 23:03:44.0  ...     19e2e  +854AcBQT2  +854AcBQT2\n",
              "2     sms      0  2012-05-07 23:04:06.0  ...     19e2e  +laSrk7g6q  +laSrk7g6q\n",
              "3   Voice     37  2012-05-07 23:04:48.0  ...     19e2e  /xvRrCVKoQ  /xvRrCVKoQ\n",
              "4     sms     25  2012-05-07 23:04:58.0  ...     19e2e  +bO+qkSonO  +bO+qkSonO\n",
              "\n",
              "[5 rows x 10 columns]"
            ]
          },
          "metadata": {
            "tags": []
          },
          "execution_count": 4
        }
      ]
    },
    {
      "cell_type": "code",
      "metadata": {
        "id": "2BfHT4EeHWai",
        "colab_type": "code",
        "colab": {
          "base_uri": "https://localhost:8080/",
          "height": 202
        },
        "outputId": "3cd4d0df-43c9-4e6a-9175-a2b7f39c0d33"
      },
      "source": [
        "#loading the day 2 data to our environment\n",
        "day3 = pd.read_csv('http://bit.ly/TelecomDataset3', iterator = True)\n",
        "\n",
        "telecom_day3 = day3.get_chunk(1000000)\n",
        "telecom_day3.head()\n"
      ],
      "execution_count": 5,
      "outputs": [
        {
          "output_type": "execute_result",
          "data": {
            "text/html": [
              "<div>\n",
              "<style scoped>\n",
              "    .dataframe tbody tr th:only-of-type {\n",
              "        vertical-align: middle;\n",
              "    }\n",
              "\n",
              "    .dataframe tbody tr th {\n",
              "        vertical-align: top;\n",
              "    }\n",
              "\n",
              "    .dataframe thead th {\n",
              "        text-align: right;\n",
              "    }\n",
              "</style>\n",
              "<table border=\"1\" class=\"dataframe\">\n",
              "  <thead>\n",
              "    <tr style=\"text-align: right;\">\n",
              "      <th></th>\n",
              "      <th>PRODUCT</th>\n",
              "      <th>VALUE</th>\n",
              "      <th>DATE_TIME</th>\n",
              "      <th>CELL_ON_SITE</th>\n",
              "      <th>DW_A_NUMBER_INT</th>\n",
              "      <th>DW_B_NUMBER_INT</th>\n",
              "      <th>COUNTRY_A</th>\n",
              "      <th>COUNTRY_B</th>\n",
              "      <th>CELLID</th>\n",
              "      <th>SIET_ID</th>\n",
              "    </tr>\n",
              "  </thead>\n",
              "  <tbody>\n",
              "    <tr>\n",
              "      <th>0</th>\n",
              "      <td>Voice</td>\n",
              "      <td>61</td>\n",
              "      <td>2012-05-08 23:01:28.0</td>\n",
              "      <td>2</td>\n",
              "      <td>966f68353622feb</td>\n",
              "      <td>ffd53a3bb2db6f1</td>\n",
              "      <td>19e2e</td>\n",
              "      <td>19e2e</td>\n",
              "      <td>+38u2u/rfx</td>\n",
              "      <td>+38u2u/rfx</td>\n",
              "    </tr>\n",
              "    <tr>\n",
              "      <th>1</th>\n",
              "      <td>sms</td>\n",
              "      <td>0</td>\n",
              "      <td>2012-05-08 23:01:31.0</td>\n",
              "      <td>1</td>\n",
              "      <td>a0a597384c612d7</td>\n",
              "      <td>cf3b218f1dde792</td>\n",
              "      <td>19e2e</td>\n",
              "      <td>19e2e</td>\n",
              "      <td>+Fs4mTvdKx</td>\n",
              "      <td>+Fs4mTvdKx</td>\n",
              "    </tr>\n",
              "    <tr>\n",
              "      <th>2</th>\n",
              "      <td>Voice</td>\n",
              "      <td>10</td>\n",
              "      <td>2012-05-08 23:02:59.0</td>\n",
              "      <td>1</td>\n",
              "      <td>5441a9a58c97132</td>\n",
              "      <td>52f8b299515b9b7</td>\n",
              "      <td>19e2e</td>\n",
              "      <td>19e2e</td>\n",
              "      <td>+ZaaZozy/+</td>\n",
              "      <td>+ZaaZozy/+</td>\n",
              "    </tr>\n",
              "    <tr>\n",
              "      <th>3</th>\n",
              "      <td>sms</td>\n",
              "      <td>0</td>\n",
              "      <td>2012-05-08 23:03:04.0</td>\n",
              "      <td>0</td>\n",
              "      <td>8ab8b9ed6989f61</td>\n",
              "      <td>e09e736e46c5c3d</td>\n",
              "      <td>19e2e</td>\n",
              "      <td>19e2e</td>\n",
              "      <td>+cNeJzsTp3</td>\n",
              "      <td>+cNeJzsTp3</td>\n",
              "    </tr>\n",
              "    <tr>\n",
              "      <th>4</th>\n",
              "      <td>Voice</td>\n",
              "      <td>22</td>\n",
              "      <td>2012-05-08 23:03:16.0</td>\n",
              "      <td>4</td>\n",
              "      <td>52662a62b199334</td>\n",
              "      <td>2186273faab4602</td>\n",
              "      <td>19e2e</td>\n",
              "      <td>19e2e</td>\n",
              "      <td>/eeMklgyJA</td>\n",
              "      <td>/eeMklgyJA</td>\n",
              "    </tr>\n",
              "  </tbody>\n",
              "</table>\n",
              "</div>"
            ],
            "text/plain": [
              "  PRODUCT  VALUE              DATE_TIME  ... COUNTRY_B      CELLID     SIET_ID\n",
              "0   Voice     61  2012-05-08 23:01:28.0  ...     19e2e  +38u2u/rfx  +38u2u/rfx\n",
              "1     sms      0  2012-05-08 23:01:31.0  ...     19e2e  +Fs4mTvdKx  +Fs4mTvdKx\n",
              "2   Voice     10  2012-05-08 23:02:59.0  ...     19e2e  +ZaaZozy/+  +ZaaZozy/+\n",
              "3     sms      0  2012-05-08 23:03:04.0  ...     19e2e  +cNeJzsTp3  +cNeJzsTp3\n",
              "4   Voice     22  2012-05-08 23:03:16.0  ...     19e2e  /eeMklgyJA  /eeMklgyJA\n",
              "\n",
              "[5 rows x 10 columns]"
            ]
          },
          "metadata": {
            "tags": []
          },
          "execution_count": 5
        }
      ]
    },
    {
      "cell_type": "markdown",
      "metadata": {
        "id": "NcSppvVfHL19",
        "colab_type": "text"
      },
      "source": [
        "# **Data Cleaning**"
      ]
    },
    {
      "cell_type": "code",
      "metadata": {
        "id": "txtbhkrnId9o",
        "colab_type": "code",
        "colab": {
          "base_uri": "https://localhost:8080/",
          "height": 202
        },
        "outputId": "28b3f7c2-0b03-4ffa-ccd2-968f6caffec3"
      },
      "source": [
        "# We start by getting rid of the data that is not useful in our analysis from our DataFrames.\n",
        "# The columns that remain are the ones that we are going to work with.\n",
        "\n",
        "#First we rename the last column from SITE_CODE TO SITE_ID\n",
        "geo_df.rename(columns = {'SIET_ID' : 'SITE_ID'}, inplace = True)\n",
        "\n",
        "# From the Cells_geo DataFrame we will drop the following columns: UNNAMED, DECOUPZONE, ZONENAME, LONGITUDE, LATITUDE, REGION ,AREA\n",
        "new_geo = geo_df.drop(['Unnamed: 0', 'DECOUPZONE', 'ZONENAME', 'LONGITUDE', 'LATITUDE', 'REGION', 'AREA'], axis = 1)\n",
        "new_geo.head()"
      ],
      "execution_count": 8,
      "outputs": [
        {
          "output_type": "execute_result",
          "data": {
            "text/html": [
              "<div>\n",
              "<style scoped>\n",
              "    .dataframe tbody tr th:only-of-type {\n",
              "        vertical-align: middle;\n",
              "    }\n",
              "\n",
              "    .dataframe tbody tr th {\n",
              "        vertical-align: top;\n",
              "    }\n",
              "\n",
              "    .dataframe thead th {\n",
              "        text-align: right;\n",
              "    }\n",
              "</style>\n",
              "<table border=\"1\" class=\"dataframe\">\n",
              "  <thead>\n",
              "    <tr style=\"text-align: right;\">\n",
              "      <th></th>\n",
              "      <th>VILLES</th>\n",
              "      <th>STATUS</th>\n",
              "      <th>LOCALISATION</th>\n",
              "      <th>CELL_ID</th>\n",
              "      <th>SITE_CODE</th>\n",
              "    </tr>\n",
              "  </thead>\n",
              "  <tbody>\n",
              "    <tr>\n",
              "      <th>0</th>\n",
              "      <td>ADJAME</td>\n",
              "      <td>In Service</td>\n",
              "      <td>ABIDJAN</td>\n",
              "      <td>fbb2e75af3</td>\n",
              "      <td>0bb492ef17</td>\n",
              "    </tr>\n",
              "    <tr>\n",
              "      <th>1</th>\n",
              "      <td>ADJAME</td>\n",
              "      <td>In Service</td>\n",
              "      <td>ABIDJAN</td>\n",
              "      <td>1502501d78</td>\n",
              "      <td>0bb492ef17</td>\n",
              "    </tr>\n",
              "    <tr>\n",
              "      <th>2</th>\n",
              "      <td>ADJAME</td>\n",
              "      <td>In Service</td>\n",
              "      <td>ABIDJAN</td>\n",
              "      <td>0c2e182a0c</td>\n",
              "      <td>0bb492ef17</td>\n",
              "    </tr>\n",
              "    <tr>\n",
              "      <th>3</th>\n",
              "      <td>ASSINIE</td>\n",
              "      <td>In Service</td>\n",
              "      <td>INTERIEUR</td>\n",
              "      <td>69bdfc69fd</td>\n",
              "      <td>8a1e6ce31f</td>\n",
              "    </tr>\n",
              "    <tr>\n",
              "      <th>4</th>\n",
              "      <td>ASSINIE</td>\n",
              "      <td>In Service</td>\n",
              "      <td>INTERIEUR</td>\n",
              "      <td>7a1029d2ab</td>\n",
              "      <td>8a1e6ce31f</td>\n",
              "    </tr>\n",
              "  </tbody>\n",
              "</table>\n",
              "</div>"
            ],
            "text/plain": [
              "    VILLES      STATUS LOCALISATION     CELL_ID   SITE_CODE\n",
              "0   ADJAME  In Service      ABIDJAN  fbb2e75af3  0bb492ef17\n",
              "1   ADJAME  In Service      ABIDJAN  1502501d78  0bb492ef17\n",
              "2   ADJAME  In Service      ABIDJAN  0c2e182a0c  0bb492ef17\n",
              "3  ASSINIE  In Service    INTERIEUR  69bdfc69fd  8a1e6ce31f\n",
              "4  ASSINIE  In Service    INTERIEUR  7a1029d2ab  8a1e6ce31f"
            ]
          },
          "metadata": {
            "tags": []
          },
          "execution_count": 8
        }
      ]
    },
    {
      "cell_type": "code",
      "metadata": {
        "id": "At3SMF_QJc6Z",
        "colab_type": "code",
        "colab": {}
      },
      "source": [
        "#renaming the first column from PRODUTC TO PRODUCT and the DATETIME column to DATE_TIME\n",
        "telecom_day1.rename(columns= {'PRODUTC' : 'PRODUCT', 'DATETIME' : 'DATE_TIME'}, inplace = True)\n",
        "\n",
        "#Dropping unnecessary columns from the day 1 dataset\n",
        "\n",
        "telecom_day1 =telecom_day1.drop(['CELL_ON_SITE', 'DW_A_NUMBER_INT',\t'DW_B_NUMBER_INT', 'COUNTRY_A',\t'COUNTRY_B'], axis = 1)\n",
        "\n"
      ],
      "execution_count": 0,
      "outputs": []
    },
    {
      "cell_type": "code",
      "metadata": {
        "id": "QzT7BXxbP7nb",
        "colab_type": "code",
        "colab": {
          "base_uri": "https://localhost:8080/",
          "height": 202
        },
        "outputId": "e233cefa-4b82-4268-a930-976b95df30e9"
      },
      "source": [
        "#Display day 1 DataFrame\n",
        "telecom_day1.tail()"
      ],
      "execution_count": 10,
      "outputs": [
        {
          "output_type": "execute_result",
          "data": {
            "text/html": [
              "<div>\n",
              "<style scoped>\n",
              "    .dataframe tbody tr th:only-of-type {\n",
              "        vertical-align: middle;\n",
              "    }\n",
              "\n",
              "    .dataframe tbody tr th {\n",
              "        vertical-align: top;\n",
              "    }\n",
              "\n",
              "    .dataframe thead th {\n",
              "        text-align: right;\n",
              "    }\n",
              "</style>\n",
              "<table border=\"1\" class=\"dataframe\">\n",
              "  <thead>\n",
              "    <tr style=\"text-align: right;\">\n",
              "      <th></th>\n",
              "      <th>PRODUCT</th>\n",
              "      <th>VALUE</th>\n",
              "      <th>DATE_TIME</th>\n",
              "      <th>CELL_ID</th>\n",
              "      <th>SITE_ID</th>\n",
              "    </tr>\n",
              "  </thead>\n",
              "  <tbody>\n",
              "    <tr>\n",
              "      <th>999995</th>\n",
              "      <td>sms</td>\n",
              "      <td>0</td>\n",
              "      <td>2012-05-07 07:24:54.0</td>\n",
              "      <td>68b27f9849</td>\n",
              "      <td>c996f2949a</td>\n",
              "    </tr>\n",
              "    <tr>\n",
              "      <th>999996</th>\n",
              "      <td>Voice</td>\n",
              "      <td>64</td>\n",
              "      <td>2012-05-07 07:24:54.0</td>\n",
              "      <td>c81af4d7e5</td>\n",
              "      <td>0449817786</td>\n",
              "    </tr>\n",
              "    <tr>\n",
              "      <th>999997</th>\n",
              "      <td>Voice</td>\n",
              "      <td>23</td>\n",
              "      <td>2012-05-07 07:24:54.0</td>\n",
              "      <td>0bb30f4eb8</td>\n",
              "      <td>7ee1a1444f</td>\n",
              "    </tr>\n",
              "    <tr>\n",
              "      <th>999998</th>\n",
              "      <td>Voice</td>\n",
              "      <td>140</td>\n",
              "      <td>2012-05-07 07:24:54.0</td>\n",
              "      <td>cc71f76b42</td>\n",
              "      <td>db11cc9f85</td>\n",
              "    </tr>\n",
              "    <tr>\n",
              "      <th>999999</th>\n",
              "      <td>Voice</td>\n",
              "      <td>13</td>\n",
              "      <td>2012-05-07 07:24:54.0</td>\n",
              "      <td>fc91429329</td>\n",
              "      <td>a38efdcc21</td>\n",
              "    </tr>\n",
              "  </tbody>\n",
              "</table>\n",
              "</div>"
            ],
            "text/plain": [
              "       PRODUCT  VALUE              DATE_TIME     CELL_ID     SITE_ID\n",
              "999995     sms      0  2012-05-07 07:24:54.0  68b27f9849  c996f2949a\n",
              "999996   Voice     64  2012-05-07 07:24:54.0  c81af4d7e5  0449817786\n",
              "999997   Voice     23  2012-05-07 07:24:54.0  0bb30f4eb8  7ee1a1444f\n",
              "999998   Voice    140  2012-05-07 07:24:54.0  cc71f76b42  db11cc9f85\n",
              "999999   Voice     13  2012-05-07 07:24:54.0  fc91429329  a38efdcc21"
            ]
          },
          "metadata": {
            "tags": []
          },
          "execution_count": 10
        }
      ]
    },
    {
      "cell_type": "code",
      "metadata": {
        "id": "TuXEDdJtIy9d",
        "colab_type": "code",
        "colab": {
          "base_uri": "https://localhost:8080/",
          "height": 202
        },
        "outputId": "24c04fb5-65f3-4d95-c987-1a239b8a1aca"
      },
      "source": [
        "#Dropping irrelevant columns in the day 2 DataFrame\n",
        "\n",
        "telecom_day2 = telecom_day2.drop(['CELL_ON_SITE', 'DW_A_NUMBER',\t'DW_B_NUMBER', 'COUNTRY_A',\t'COUNTRY_B'], axis = 1)\n",
        "telecom_day2.head()"
      ],
      "execution_count": 11,
      "outputs": [
        {
          "output_type": "execute_result",
          "data": {
            "text/html": [
              "<div>\n",
              "<style scoped>\n",
              "    .dataframe tbody tr th:only-of-type {\n",
              "        vertical-align: middle;\n",
              "    }\n",
              "\n",
              "    .dataframe tbody tr th {\n",
              "        vertical-align: top;\n",
              "    }\n",
              "\n",
              "    .dataframe thead th {\n",
              "        text-align: right;\n",
              "    }\n",
              "</style>\n",
              "<table border=\"1\" class=\"dataframe\">\n",
              "  <thead>\n",
              "    <tr style=\"text-align: right;\">\n",
              "      <th></th>\n",
              "      <th>PRODUCT</th>\n",
              "      <th>VALUE</th>\n",
              "      <th>DATE_TIME</th>\n",
              "      <th>CELL_ID</th>\n",
              "      <th>SITE_ID</th>\n",
              "    </tr>\n",
              "  </thead>\n",
              "  <tbody>\n",
              "    <tr>\n",
              "      <th>0</th>\n",
              "      <td>sms</td>\n",
              "      <td>0</td>\n",
              "      <td>2012-05-07 23:02:06.0</td>\n",
              "      <td>+854AcBQT2</td>\n",
              "      <td>+854AcBQT2</td>\n",
              "    </tr>\n",
              "    <tr>\n",
              "      <th>1</th>\n",
              "      <td>Voice</td>\n",
              "      <td>0</td>\n",
              "      <td>2012-05-07 23:03:44.0</td>\n",
              "      <td>+854AcBQT2</td>\n",
              "      <td>+854AcBQT2</td>\n",
              "    </tr>\n",
              "    <tr>\n",
              "      <th>2</th>\n",
              "      <td>sms</td>\n",
              "      <td>0</td>\n",
              "      <td>2012-05-07 23:04:06.0</td>\n",
              "      <td>+laSrk7g6q</td>\n",
              "      <td>+laSrk7g6q</td>\n",
              "    </tr>\n",
              "    <tr>\n",
              "      <th>3</th>\n",
              "      <td>Voice</td>\n",
              "      <td>37</td>\n",
              "      <td>2012-05-07 23:04:48.0</td>\n",
              "      <td>/xvRrCVKoQ</td>\n",
              "      <td>/xvRrCVKoQ</td>\n",
              "    </tr>\n",
              "    <tr>\n",
              "      <th>4</th>\n",
              "      <td>sms</td>\n",
              "      <td>25</td>\n",
              "      <td>2012-05-07 23:04:58.0</td>\n",
              "      <td>+bO+qkSonO</td>\n",
              "      <td>+bO+qkSonO</td>\n",
              "    </tr>\n",
              "  </tbody>\n",
              "</table>\n",
              "</div>"
            ],
            "text/plain": [
              "  PRODUCT  VALUE              DATE_TIME     CELL_ID     SITE_ID\n",
              "0     sms      0  2012-05-07 23:02:06.0  +854AcBQT2  +854AcBQT2\n",
              "1   Voice      0  2012-05-07 23:03:44.0  +854AcBQT2  +854AcBQT2\n",
              "2     sms      0  2012-05-07 23:04:06.0  +laSrk7g6q  +laSrk7g6q\n",
              "3   Voice     37  2012-05-07 23:04:48.0  /xvRrCVKoQ  /xvRrCVKoQ\n",
              "4     sms     25  2012-05-07 23:04:58.0  +bO+qkSonO  +bO+qkSonO"
            ]
          },
          "metadata": {
            "tags": []
          },
          "execution_count": 11
        }
      ]
    },
    {
      "cell_type": "code",
      "metadata": {
        "id": "mlepYJPEJdPn",
        "colab_type": "code",
        "colab": {
          "base_uri": "https://localhost:8080/",
          "height": 202
        },
        "outputId": "f00913a0-fafc-421f-ed5a-eae1b4c19aed"
      },
      "source": [
        "#Renaming the last column from SIET_ID TO SITE_ID\n",
        "telecom_day3.rename(columns = {'SIET_ID' : 'SITE_ID'}, inplace = True)\n",
        "\n",
        "# Dropping the columns that are not needed in the day 3 DataFrame\n",
        "telecom_day3 = telecom_day3.drop(['CELL_ON_SITE', 'DW_A_NUMBER_INT', 'DW_B_NUMBER_INT', 'COUNTRY_A','COUNTRY_B'], axis = 1)\n",
        "telecom_day3.head()"
      ],
      "execution_count": 12,
      "outputs": [
        {
          "output_type": "execute_result",
          "data": {
            "text/html": [
              "<div>\n",
              "<style scoped>\n",
              "    .dataframe tbody tr th:only-of-type {\n",
              "        vertical-align: middle;\n",
              "    }\n",
              "\n",
              "    .dataframe tbody tr th {\n",
              "        vertical-align: top;\n",
              "    }\n",
              "\n",
              "    .dataframe thead th {\n",
              "        text-align: right;\n",
              "    }\n",
              "</style>\n",
              "<table border=\"1\" class=\"dataframe\">\n",
              "  <thead>\n",
              "    <tr style=\"text-align: right;\">\n",
              "      <th></th>\n",
              "      <th>PRODUCT</th>\n",
              "      <th>VALUE</th>\n",
              "      <th>DATE_TIME</th>\n",
              "      <th>CELLID</th>\n",
              "      <th>SITE_ID</th>\n",
              "    </tr>\n",
              "  </thead>\n",
              "  <tbody>\n",
              "    <tr>\n",
              "      <th>0</th>\n",
              "      <td>Voice</td>\n",
              "      <td>61</td>\n",
              "      <td>2012-05-08 23:01:28.0</td>\n",
              "      <td>+38u2u/rfx</td>\n",
              "      <td>+38u2u/rfx</td>\n",
              "    </tr>\n",
              "    <tr>\n",
              "      <th>1</th>\n",
              "      <td>sms</td>\n",
              "      <td>0</td>\n",
              "      <td>2012-05-08 23:01:31.0</td>\n",
              "      <td>+Fs4mTvdKx</td>\n",
              "      <td>+Fs4mTvdKx</td>\n",
              "    </tr>\n",
              "    <tr>\n",
              "      <th>2</th>\n",
              "      <td>Voice</td>\n",
              "      <td>10</td>\n",
              "      <td>2012-05-08 23:02:59.0</td>\n",
              "      <td>+ZaaZozy/+</td>\n",
              "      <td>+ZaaZozy/+</td>\n",
              "    </tr>\n",
              "    <tr>\n",
              "      <th>3</th>\n",
              "      <td>sms</td>\n",
              "      <td>0</td>\n",
              "      <td>2012-05-08 23:03:04.0</td>\n",
              "      <td>+cNeJzsTp3</td>\n",
              "      <td>+cNeJzsTp3</td>\n",
              "    </tr>\n",
              "    <tr>\n",
              "      <th>4</th>\n",
              "      <td>Voice</td>\n",
              "      <td>22</td>\n",
              "      <td>2012-05-08 23:03:16.0</td>\n",
              "      <td>/eeMklgyJA</td>\n",
              "      <td>/eeMklgyJA</td>\n",
              "    </tr>\n",
              "  </tbody>\n",
              "</table>\n",
              "</div>"
            ],
            "text/plain": [
              "  PRODUCT  VALUE              DATE_TIME      CELLID     SITE_ID\n",
              "0   Voice     61  2012-05-08 23:01:28.0  +38u2u/rfx  +38u2u/rfx\n",
              "1     sms      0  2012-05-08 23:01:31.0  +Fs4mTvdKx  +Fs4mTvdKx\n",
              "2   Voice     10  2012-05-08 23:02:59.0  +ZaaZozy/+  +ZaaZozy/+\n",
              "3     sms      0  2012-05-08 23:03:04.0  +cNeJzsTp3  +cNeJzsTp3\n",
              "4   Voice     22  2012-05-08 23:03:16.0  /eeMklgyJA  /eeMklgyJA"
            ]
          },
          "metadata": {
            "tags": []
          },
          "execution_count": 12
        }
      ]
    },
    {
      "cell_type": "code",
      "metadata": {
        "id": "ov7PvZtv1F2C",
        "colab_type": "code",
        "colab": {
          "base_uri": "https://localhost:8080/",
          "height": 202
        },
        "outputId": "4cbdec28-9409-403f-ee24-e26c21c30f9f"
      },
      "source": [
        "#renaming the CELLID column to CELL_ID\n",
        "telecom_day3.rename(columns= {'CELLID' : 'CELL_ID'}, inplace = True)\n",
        "\n",
        "telecom_day3.head()\n"
      ],
      "execution_count": 13,
      "outputs": [
        {
          "output_type": "execute_result",
          "data": {
            "text/html": [
              "<div>\n",
              "<style scoped>\n",
              "    .dataframe tbody tr th:only-of-type {\n",
              "        vertical-align: middle;\n",
              "    }\n",
              "\n",
              "    .dataframe tbody tr th {\n",
              "        vertical-align: top;\n",
              "    }\n",
              "\n",
              "    .dataframe thead th {\n",
              "        text-align: right;\n",
              "    }\n",
              "</style>\n",
              "<table border=\"1\" class=\"dataframe\">\n",
              "  <thead>\n",
              "    <tr style=\"text-align: right;\">\n",
              "      <th></th>\n",
              "      <th>PRODUCT</th>\n",
              "      <th>VALUE</th>\n",
              "      <th>DATE_TIME</th>\n",
              "      <th>CELL_ID</th>\n",
              "      <th>SITE_ID</th>\n",
              "    </tr>\n",
              "  </thead>\n",
              "  <tbody>\n",
              "    <tr>\n",
              "      <th>0</th>\n",
              "      <td>Voice</td>\n",
              "      <td>61</td>\n",
              "      <td>2012-05-08 23:01:28.0</td>\n",
              "      <td>+38u2u/rfx</td>\n",
              "      <td>+38u2u/rfx</td>\n",
              "    </tr>\n",
              "    <tr>\n",
              "      <th>1</th>\n",
              "      <td>sms</td>\n",
              "      <td>0</td>\n",
              "      <td>2012-05-08 23:01:31.0</td>\n",
              "      <td>+Fs4mTvdKx</td>\n",
              "      <td>+Fs4mTvdKx</td>\n",
              "    </tr>\n",
              "    <tr>\n",
              "      <th>2</th>\n",
              "      <td>Voice</td>\n",
              "      <td>10</td>\n",
              "      <td>2012-05-08 23:02:59.0</td>\n",
              "      <td>+ZaaZozy/+</td>\n",
              "      <td>+ZaaZozy/+</td>\n",
              "    </tr>\n",
              "    <tr>\n",
              "      <th>3</th>\n",
              "      <td>sms</td>\n",
              "      <td>0</td>\n",
              "      <td>2012-05-08 23:03:04.0</td>\n",
              "      <td>+cNeJzsTp3</td>\n",
              "      <td>+cNeJzsTp3</td>\n",
              "    </tr>\n",
              "    <tr>\n",
              "      <th>4</th>\n",
              "      <td>Voice</td>\n",
              "      <td>22</td>\n",
              "      <td>2012-05-08 23:03:16.0</td>\n",
              "      <td>/eeMklgyJA</td>\n",
              "      <td>/eeMklgyJA</td>\n",
              "    </tr>\n",
              "  </tbody>\n",
              "</table>\n",
              "</div>"
            ],
            "text/plain": [
              "  PRODUCT  VALUE              DATE_TIME     CELL_ID     SITE_ID\n",
              "0   Voice     61  2012-05-08 23:01:28.0  +38u2u/rfx  +38u2u/rfx\n",
              "1     sms      0  2012-05-08 23:01:31.0  +Fs4mTvdKx  +Fs4mTvdKx\n",
              "2   Voice     10  2012-05-08 23:02:59.0  +ZaaZozy/+  +ZaaZozy/+\n",
              "3     sms      0  2012-05-08 23:03:04.0  +cNeJzsTp3  +cNeJzsTp3\n",
              "4   Voice     22  2012-05-08 23:03:16.0  /eeMklgyJA  /eeMklgyJA"
            ]
          },
          "metadata": {
            "tags": []
          },
          "execution_count": 13
        }
      ]
    },
    {
      "cell_type": "markdown",
      "metadata": {
        "id": "fJwP_GsO1lom",
        "colab_type": "text"
      },
      "source": [
        ""
      ]
    },
    {
      "cell_type": "code",
      "metadata": {
        "id": "XyoBqsX3JqLc",
        "colab_type": "code",
        "colab": {
          "base_uri": "https://localhost:8080/",
          "height": 35
        },
        "outputId": "668f4648-5065-47f7-db1f-5295a42b79a6"
      },
      "source": [
        "# Next we check for missing data in our datasets\n",
        "\n",
        "# Checking for null values in the cells_geo dataset\n",
        "np.count_nonzero(geo_df.isnull())"
      ],
      "execution_count": 14,
      "outputs": [
        {
          "output_type": "execute_result",
          "data": {
            "text/plain": [
              "96"
            ]
          },
          "metadata": {
            "tags": []
          },
          "execution_count": 14
        }
      ]
    },
    {
      "cell_type": "code",
      "metadata": {
        "id": "JHP_UxtYKBca",
        "colab_type": "code",
        "colab": {
          "base_uri": "https://localhost:8080/",
          "height": 35
        },
        "outputId": "9c629c42-259d-434f-fe48-ea85ce38999c"
      },
      "source": [
        "#Checking the rows and columns in our new_geo dataframe\n",
        "\n",
        "new_geo.shape"
      ],
      "execution_count": 15,
      "outputs": [
        {
          "output_type": "execute_result",
          "data": {
            "text/plain": [
              "(3974, 5)"
            ]
          },
          "metadata": {
            "tags": []
          },
          "execution_count": 15
        }
      ]
    },
    {
      "cell_type": "code",
      "metadata": {
        "id": "rNjWg4anKNdz",
        "colab_type": "code",
        "colab": {
          "base_uri": "https://localhost:8080/",
          "height": 35
        },
        "outputId": "4b1f00bb-0d03-4ad1-e9da-5b9bdc32fd37"
      },
      "source": [
        "#dropping rows with null values from the new_geo dataframe and checking the shape after dropping the rows\n",
        "\n",
        "new_geo.dropna().shape\n"
      ],
      "execution_count": 16,
      "outputs": [
        {
          "output_type": "execute_result",
          "data": {
            "text/plain": [
              "(3907, 5)"
            ]
          },
          "metadata": {
            "tags": []
          },
          "execution_count": 16
        }
      ]
    },
    {
      "cell_type": "code",
      "metadata": {
        "id": "mf-U-U0OKRZt",
        "colab_type": "code",
        "colab": {
          "base_uri": "https://localhost:8080/",
          "height": 35
        },
        "outputId": "e1fc4b91-567a-4231-a022-d02bc3fe933d"
      },
      "source": [
        "#Checking for null values in the day 1 DataFrame\n",
        "\n",
        "np.count_nonzero(telecom_day1.isnull())"
      ],
      "execution_count": 18,
      "outputs": [
        {
          "output_type": "execute_result",
          "data": {
            "text/plain": [
              "89602"
            ]
          },
          "metadata": {
            "tags": []
          },
          "execution_count": 18
        }
      ]
    },
    {
      "cell_type": "code",
      "metadata": {
        "id": "S7zdnFFmKqTQ",
        "colab_type": "code",
        "colab": {
          "base_uri": "https://localhost:8080/",
          "height": 35
        },
        "outputId": "3809c3a4-ffc8-4afd-9b84-514d11cbd15d"
      },
      "source": [
        "#Checking for missing values in the day 2 dataframe\n",
        "\n",
        "np.count_nonzero(telecom_day2.isnull())"
      ],
      "execution_count": 19,
      "outputs": [
        {
          "output_type": "execute_result",
          "data": {
            "text/plain": [
              "77198"
            ]
          },
          "metadata": {
            "tags": []
          },
          "execution_count": 19
        }
      ]
    },
    {
      "cell_type": "code",
      "metadata": {
        "id": "tcWjFhj0K8kx",
        "colab_type": "code",
        "colab": {
          "base_uri": "https://localhost:8080/",
          "height": 35
        },
        "outputId": "7b1828cf-9803-4e7d-be0f-b6117c1c8700"
      },
      "source": [
        "#checking for missing values in the day 3 dataframe\n",
        "\n",
        "np.count_nonzero(telecom_day3.isnull())"
      ],
      "execution_count": 20,
      "outputs": [
        {
          "output_type": "execute_result",
          "data": {
            "text/plain": [
              "88359"
            ]
          },
          "metadata": {
            "tags": []
          },
          "execution_count": 20
        }
      ]
    },
    {
      "cell_type": "code",
      "metadata": {
        "id": "WiU8MoU1QWYk",
        "colab_type": "code",
        "colab": {
          "base_uri": "https://localhost:8080/",
          "height": 191
        },
        "outputId": "af07afcf-2a56-4162-9d68-0ad3b8f4cf0e"
      },
      "source": [
        "#checking the datatypes of our day 1 dataset variables\n",
        "telecom_day1.info()"
      ],
      "execution_count": 21,
      "outputs": [
        {
          "output_type": "stream",
          "text": [
            "<class 'pandas.core.frame.DataFrame'>\n",
            "RangeIndex: 1000000 entries, 0 to 999999\n",
            "Data columns (total 5 columns):\n",
            "PRODUCT      1000000 non-null object\n",
            "VALUE        1000000 non-null int64\n",
            "DATE_TIME    1000000 non-null object\n",
            "CELL_ID      1000000 non-null object\n",
            "SITE_ID      910398 non-null object\n",
            "dtypes: int64(1), object(4)\n",
            "memory usage: 38.1+ MB\n"
          ],
          "name": "stdout"
        }
      ]
    },
    {
      "cell_type": "code",
      "metadata": {
        "id": "VVmVArxLNoQZ",
        "colab_type": "code",
        "colab": {
          "base_uri": "https://localhost:8080/",
          "height": 121
        },
        "outputId": "edb9d311-6bd3-44d9-cf61-b70a3332901c"
      },
      "source": [
        "#Lets change the format of the DATE_TIME column\n",
        "pd.to_datetime(telecom_day1['DATE_TIME']).head()"
      ],
      "execution_count": 22,
      "outputs": [
        {
          "output_type": "execute_result",
          "data": {
            "text/plain": [
              "0   2012-05-06 23:04:37\n",
              "1   2012-05-06 23:05:25\n",
              "2   2012-05-06 23:05:41\n",
              "3   2012-05-06 23:05:42\n",
              "4   2012-05-06 23:06:29\n",
              "Name: DATE_TIME, dtype: datetime64[ns]"
            ]
          },
          "metadata": {
            "tags": []
          },
          "execution_count": 22
        }
      ]
    },
    {
      "cell_type": "code",
      "metadata": {
        "id": "CN6O_1KSLMqg",
        "colab_type": "code",
        "colab": {
          "base_uri": "https://localhost:8080/",
          "height": 202
        },
        "outputId": "ab0c4874-0c6b-40b4-b1e8-84995140719e"
      },
      "source": [
        "# Next we will split the DATE_TIME column into separate Date and Time columns\n",
        "\n",
        "#tel_day1['Time'] = pd.to_datetime(tel_day1.ime)\n",
        "#tel_day1['Date'] = pd.datetime(tel_day1.Time)\n",
        "telecom_day1[['DATE', 'TIME']] = telecom_day1['DATE_TIME'].str.split(\" \", 1, expand = True)\n",
        "telecom_day1.drop('DATE_TIME', axis = 1)\n",
        "\n",
        "telecom_day1.head()\n",
        "\n"
      ],
      "execution_count": 23,
      "outputs": [
        {
          "output_type": "execute_result",
          "data": {
            "text/html": [
              "<div>\n",
              "<style scoped>\n",
              "    .dataframe tbody tr th:only-of-type {\n",
              "        vertical-align: middle;\n",
              "    }\n",
              "\n",
              "    .dataframe tbody tr th {\n",
              "        vertical-align: top;\n",
              "    }\n",
              "\n",
              "    .dataframe thead th {\n",
              "        text-align: right;\n",
              "    }\n",
              "</style>\n",
              "<table border=\"1\" class=\"dataframe\">\n",
              "  <thead>\n",
              "    <tr style=\"text-align: right;\">\n",
              "      <th></th>\n",
              "      <th>PRODUCT</th>\n",
              "      <th>VALUE</th>\n",
              "      <th>DATE_TIME</th>\n",
              "      <th>CELL_ID</th>\n",
              "      <th>SITE_ID</th>\n",
              "      <th>DATE</th>\n",
              "      <th>TIME</th>\n",
              "    </tr>\n",
              "  </thead>\n",
              "  <tbody>\n",
              "    <tr>\n",
              "      <th>0</th>\n",
              "      <td>Voice</td>\n",
              "      <td>0</td>\n",
              "      <td>2012-05-06 23:04:37.0</td>\n",
              "      <td>/TJNe+Mmtu</td>\n",
              "      <td>/TJNe+Mmtu</td>\n",
              "      <td>2012-05-06</td>\n",
              "      <td>23:04:37.0</td>\n",
              "    </tr>\n",
              "    <tr>\n",
              "      <th>1</th>\n",
              "      <td>sms</td>\n",
              "      <td>0</td>\n",
              "      <td>2012-05-06 23:05:25.0</td>\n",
              "      <td>/+cKZKIp41</td>\n",
              "      <td>/+cKZKIp41</td>\n",
              "      <td>2012-05-06</td>\n",
              "      <td>23:05:25.0</td>\n",
              "    </tr>\n",
              "    <tr>\n",
              "      <th>2</th>\n",
              "      <td>sms</td>\n",
              "      <td>25</td>\n",
              "      <td>2012-05-06 23:05:41.0</td>\n",
              "      <td>/u0FSD+ahi</td>\n",
              "      <td>/u0FSD+ahi</td>\n",
              "      <td>2012-05-06</td>\n",
              "      <td>23:05:41.0</td>\n",
              "    </tr>\n",
              "    <tr>\n",
              "      <th>3</th>\n",
              "      <td>Voice</td>\n",
              "      <td>56</td>\n",
              "      <td>2012-05-06 23:05:42.0</td>\n",
              "      <td>+cNeJzsTp3</td>\n",
              "      <td>+cNeJzsTp3</td>\n",
              "      <td>2012-05-06</td>\n",
              "      <td>23:05:42.0</td>\n",
              "    </tr>\n",
              "    <tr>\n",
              "      <th>4</th>\n",
              "      <td>Voice</td>\n",
              "      <td>14</td>\n",
              "      <td>2012-05-06 23:06:29.0</td>\n",
              "      <td>051KhYDCpv</td>\n",
              "      <td>051KhYDCpv</td>\n",
              "      <td>2012-05-06</td>\n",
              "      <td>23:06:29.0</td>\n",
              "    </tr>\n",
              "  </tbody>\n",
              "</table>\n",
              "</div>"
            ],
            "text/plain": [
              "  PRODUCT  VALUE              DATE_TIME  ...     SITE_ID        DATE        TIME\n",
              "0   Voice      0  2012-05-06 23:04:37.0  ...  /TJNe+Mmtu  2012-05-06  23:04:37.0\n",
              "1     sms      0  2012-05-06 23:05:25.0  ...  /+cKZKIp41  2012-05-06  23:05:25.0\n",
              "2     sms     25  2012-05-06 23:05:41.0  ...  /u0FSD+ahi  2012-05-06  23:05:41.0\n",
              "3   Voice     56  2012-05-06 23:05:42.0  ...  +cNeJzsTp3  2012-05-06  23:05:42.0\n",
              "4   Voice     14  2012-05-06 23:06:29.0  ...  051KhYDCpv  2012-05-06  23:06:29.0\n",
              "\n",
              "[5 rows x 7 columns]"
            ]
          },
          "metadata": {
            "tags": []
          },
          "execution_count": 23
        }
      ]
    },
    {
      "cell_type": "code",
      "metadata": {
        "id": "uy11lcadMWJz",
        "colab_type": "code",
        "colab": {
          "base_uri": "https://localhost:8080/",
          "height": 225
        },
        "outputId": "c4db225c-2847-4ba5-ca97-e958419c24dc"
      },
      "source": [
        "#Lets change the format of the DATE and TIME columns\n",
        "print(pd.to_datetime(telecom_day1['DATE']).head())\n",
        "print(pd.to_datetime(telecom_day1['TIME']).head())"
      ],
      "execution_count": 24,
      "outputs": [
        {
          "output_type": "stream",
          "text": [
            "0   2012-05-06\n",
            "1   2012-05-06\n",
            "2   2012-05-06\n",
            "3   2012-05-06\n",
            "4   2012-05-06\n",
            "Name: DATE, dtype: datetime64[ns]\n",
            "0   2019-07-12 23:04:37\n",
            "1   2019-07-12 23:05:25\n",
            "2   2019-07-12 23:05:41\n",
            "3   2019-07-12 23:05:42\n",
            "4   2019-07-12 23:06:29\n",
            "Name: TIME, dtype: datetime64[ns]\n"
          ],
          "name": "stdout"
        }
      ]
    },
    {
      "cell_type": "code",
      "metadata": {
        "id": "xrYm9iEVPZvK",
        "colab_type": "code",
        "colab": {
          "base_uri": "https://localhost:8080/",
          "height": 191
        },
        "outputId": "c58e1b84-1606-44ee-a2d0-42ac0fc35f6b"
      },
      "source": [
        "#Checking the info of the day 2 dataset\n",
        "telecom_day2.info()"
      ],
      "execution_count": 25,
      "outputs": [
        {
          "output_type": "stream",
          "text": [
            "<class 'pandas.core.frame.DataFrame'>\n",
            "RangeIndex: 1000000 entries, 0 to 999999\n",
            "Data columns (total 5 columns):\n",
            "PRODUCT      1000000 non-null object\n",
            "VALUE        1000000 non-null int64\n",
            "DATE_TIME    1000000 non-null object\n",
            "CELL_ID      1000000 non-null object\n",
            "SITE_ID      922802 non-null object\n",
            "dtypes: int64(1), object(4)\n",
            "memory usage: 38.1+ MB\n"
          ],
          "name": "stdout"
        }
      ]
    },
    {
      "cell_type": "code",
      "metadata": {
        "id": "KMVqXiYxQwq6",
        "colab_type": "code",
        "colab": {
          "base_uri": "https://localhost:8080/",
          "height": 121
        },
        "outputId": "0036ed08-fe44-4fbe-b13e-6e6526c2784c"
      },
      "source": [
        "#Changing the format of the DATE_TIME column in the day 2 dataframe\n",
        "pd.to_datetime(telecom_day1['DATE_TIME']).head()\n",
        "\n"
      ],
      "execution_count": 26,
      "outputs": [
        {
          "output_type": "execute_result",
          "data": {
            "text/plain": [
              "0   2012-05-06 23:04:37\n",
              "1   2012-05-06 23:05:25\n",
              "2   2012-05-06 23:05:41\n",
              "3   2012-05-06 23:05:42\n",
              "4   2012-05-06 23:06:29\n",
              "Name: DATE_TIME, dtype: datetime64[ns]"
            ]
          },
          "metadata": {
            "tags": []
          },
          "execution_count": 26
        }
      ]
    },
    {
      "cell_type": "code",
      "metadata": {
        "id": "F_psFs_7RGam",
        "colab_type": "code",
        "colab": {
          "base_uri": "https://localhost:8080/",
          "height": 202
        },
        "outputId": "c0aed344-9bd9-457a-856d-a494ab547014"
      },
      "source": [
        "#splitting the DATE_TIME Column\n",
        "telecom_day2[['DATE', 'TIME']] = telecom_day2['DATE_TIME'].str.split(\" \", 1, expand = True)\n",
        "telecom_day2.head()"
      ],
      "execution_count": 27,
      "outputs": [
        {
          "output_type": "execute_result",
          "data": {
            "text/html": [
              "<div>\n",
              "<style scoped>\n",
              "    .dataframe tbody tr th:only-of-type {\n",
              "        vertical-align: middle;\n",
              "    }\n",
              "\n",
              "    .dataframe tbody tr th {\n",
              "        vertical-align: top;\n",
              "    }\n",
              "\n",
              "    .dataframe thead th {\n",
              "        text-align: right;\n",
              "    }\n",
              "</style>\n",
              "<table border=\"1\" class=\"dataframe\">\n",
              "  <thead>\n",
              "    <tr style=\"text-align: right;\">\n",
              "      <th></th>\n",
              "      <th>PRODUCT</th>\n",
              "      <th>VALUE</th>\n",
              "      <th>DATE_TIME</th>\n",
              "      <th>CELL_ID</th>\n",
              "      <th>SITE_ID</th>\n",
              "      <th>DATE</th>\n",
              "      <th>TIME</th>\n",
              "    </tr>\n",
              "  </thead>\n",
              "  <tbody>\n",
              "    <tr>\n",
              "      <th>0</th>\n",
              "      <td>sms</td>\n",
              "      <td>0</td>\n",
              "      <td>2012-05-07 23:02:06.0</td>\n",
              "      <td>+854AcBQT2</td>\n",
              "      <td>+854AcBQT2</td>\n",
              "      <td>2012-05-07</td>\n",
              "      <td>23:02:06.0</td>\n",
              "    </tr>\n",
              "    <tr>\n",
              "      <th>1</th>\n",
              "      <td>Voice</td>\n",
              "      <td>0</td>\n",
              "      <td>2012-05-07 23:03:44.0</td>\n",
              "      <td>+854AcBQT2</td>\n",
              "      <td>+854AcBQT2</td>\n",
              "      <td>2012-05-07</td>\n",
              "      <td>23:03:44.0</td>\n",
              "    </tr>\n",
              "    <tr>\n",
              "      <th>2</th>\n",
              "      <td>sms</td>\n",
              "      <td>0</td>\n",
              "      <td>2012-05-07 23:04:06.0</td>\n",
              "      <td>+laSrk7g6q</td>\n",
              "      <td>+laSrk7g6q</td>\n",
              "      <td>2012-05-07</td>\n",
              "      <td>23:04:06.0</td>\n",
              "    </tr>\n",
              "    <tr>\n",
              "      <th>3</th>\n",
              "      <td>Voice</td>\n",
              "      <td>37</td>\n",
              "      <td>2012-05-07 23:04:48.0</td>\n",
              "      <td>/xvRrCVKoQ</td>\n",
              "      <td>/xvRrCVKoQ</td>\n",
              "      <td>2012-05-07</td>\n",
              "      <td>23:04:48.0</td>\n",
              "    </tr>\n",
              "    <tr>\n",
              "      <th>4</th>\n",
              "      <td>sms</td>\n",
              "      <td>25</td>\n",
              "      <td>2012-05-07 23:04:58.0</td>\n",
              "      <td>+bO+qkSonO</td>\n",
              "      <td>+bO+qkSonO</td>\n",
              "      <td>2012-05-07</td>\n",
              "      <td>23:04:58.0</td>\n",
              "    </tr>\n",
              "  </tbody>\n",
              "</table>\n",
              "</div>"
            ],
            "text/plain": [
              "  PRODUCT  VALUE              DATE_TIME  ...     SITE_ID        DATE        TIME\n",
              "0     sms      0  2012-05-07 23:02:06.0  ...  +854AcBQT2  2012-05-07  23:02:06.0\n",
              "1   Voice      0  2012-05-07 23:03:44.0  ...  +854AcBQT2  2012-05-07  23:03:44.0\n",
              "2     sms      0  2012-05-07 23:04:06.0  ...  +laSrk7g6q  2012-05-07  23:04:06.0\n",
              "3   Voice     37  2012-05-07 23:04:48.0  ...  /xvRrCVKoQ  2012-05-07  23:04:48.0\n",
              "4     sms     25  2012-05-07 23:04:58.0  ...  +bO+qkSonO  2012-05-07  23:04:58.0\n",
              "\n",
              "[5 rows x 7 columns]"
            ]
          },
          "metadata": {
            "tags": []
          },
          "execution_count": 27
        }
      ]
    },
    {
      "cell_type": "code",
      "metadata": {
        "id": "lQWd6WxERXmU",
        "colab_type": "code",
        "colab": {
          "base_uri": "https://localhost:8080/",
          "height": 225
        },
        "outputId": "7e0308ea-5bf2-483f-91df-de56002baf3c"
      },
      "source": [
        "#Lets change the format of the DATE and TIME columns\n",
        "print(pd.to_datetime(telecom_day2['DATE']).head())\n",
        "print(pd.to_datetime(telecom_day2['TIME']).head())"
      ],
      "execution_count": 28,
      "outputs": [
        {
          "output_type": "stream",
          "text": [
            "0   2012-05-07\n",
            "1   2012-05-07\n",
            "2   2012-05-07\n",
            "3   2012-05-07\n",
            "4   2012-05-07\n",
            "Name: DATE, dtype: datetime64[ns]\n",
            "0   2019-07-12 23:02:06\n",
            "1   2019-07-12 23:03:44\n",
            "2   2019-07-12 23:04:06\n",
            "3   2019-07-12 23:04:48\n",
            "4   2019-07-12 23:04:58\n",
            "Name: TIME, dtype: datetime64[ns]\n"
          ],
          "name": "stdout"
        }
      ]
    },
    {
      "cell_type": "code",
      "metadata": {
        "id": "8SKfItp7Rrou",
        "colab_type": "code",
        "colab": {
          "base_uri": "https://localhost:8080/",
          "height": 191
        },
        "outputId": "cb3e182d-7738-4e39-feb1-20876a4a73e3"
      },
      "source": [
        "#checking the datatypes of the day 3 dataset\n",
        "\n",
        "telecom_day3.info()"
      ],
      "execution_count": 29,
      "outputs": [
        {
          "output_type": "stream",
          "text": [
            "<class 'pandas.core.frame.DataFrame'>\n",
            "RangeIndex: 1000000 entries, 0 to 999999\n",
            "Data columns (total 5 columns):\n",
            "PRODUCT      1000000 non-null object\n",
            "VALUE        1000000 non-null int64\n",
            "DATE_TIME    1000000 non-null object\n",
            "CELL_ID      1000000 non-null object\n",
            "SITE_ID      911641 non-null object\n",
            "dtypes: int64(1), object(4)\n",
            "memory usage: 38.1+ MB\n"
          ],
          "name": "stdout"
        }
      ]
    },
    {
      "cell_type": "code",
      "metadata": {
        "id": "QefMO5opSkDQ",
        "colab_type": "code",
        "colab": {
          "base_uri": "https://localhost:8080/",
          "height": 121
        },
        "outputId": "9e0dbd58-3e16-4c67-bcc0-4ea3bb4d187a"
      },
      "source": [
        "#Changing the format of the DATE_TIME column on the day 3 dataset\n",
        "pd.to_datetime(telecom_day3['DATE_TIME']).head()\n"
      ],
      "execution_count": 30,
      "outputs": [
        {
          "output_type": "execute_result",
          "data": {
            "text/plain": [
              "0   2012-05-08 23:01:28\n",
              "1   2012-05-08 23:01:31\n",
              "2   2012-05-08 23:02:59\n",
              "3   2012-05-08 23:03:04\n",
              "4   2012-05-08 23:03:16\n",
              "Name: DATE_TIME, dtype: datetime64[ns]"
            ]
          },
          "metadata": {
            "tags": []
          },
          "execution_count": 30
        }
      ]
    },
    {
      "cell_type": "code",
      "metadata": {
        "id": "rNs5ArBsTQC5",
        "colab_type": "code",
        "colab": {
          "base_uri": "https://localhost:8080/",
          "height": 202
        },
        "outputId": "ed31b9be-815e-43d9-c968-6a1cb6a3305d"
      },
      "source": [
        "#splitting the date and time columns\n",
        "telecom_day3[['DATE', 'TIME']] = telecom_day3['DATE_TIME'].str.split(\" \", 1, expand = True)\n",
        "telecom_day3.head()"
      ],
      "execution_count": 31,
      "outputs": [
        {
          "output_type": "execute_result",
          "data": {
            "text/html": [
              "<div>\n",
              "<style scoped>\n",
              "    .dataframe tbody tr th:only-of-type {\n",
              "        vertical-align: middle;\n",
              "    }\n",
              "\n",
              "    .dataframe tbody tr th {\n",
              "        vertical-align: top;\n",
              "    }\n",
              "\n",
              "    .dataframe thead th {\n",
              "        text-align: right;\n",
              "    }\n",
              "</style>\n",
              "<table border=\"1\" class=\"dataframe\">\n",
              "  <thead>\n",
              "    <tr style=\"text-align: right;\">\n",
              "      <th></th>\n",
              "      <th>PRODUCT</th>\n",
              "      <th>VALUE</th>\n",
              "      <th>DATE_TIME</th>\n",
              "      <th>CELL_ID</th>\n",
              "      <th>SITE_ID</th>\n",
              "      <th>DATE</th>\n",
              "      <th>TIME</th>\n",
              "    </tr>\n",
              "  </thead>\n",
              "  <tbody>\n",
              "    <tr>\n",
              "      <th>0</th>\n",
              "      <td>Voice</td>\n",
              "      <td>61</td>\n",
              "      <td>2012-05-08 23:01:28.0</td>\n",
              "      <td>+38u2u/rfx</td>\n",
              "      <td>+38u2u/rfx</td>\n",
              "      <td>2012-05-08</td>\n",
              "      <td>23:01:28.0</td>\n",
              "    </tr>\n",
              "    <tr>\n",
              "      <th>1</th>\n",
              "      <td>sms</td>\n",
              "      <td>0</td>\n",
              "      <td>2012-05-08 23:01:31.0</td>\n",
              "      <td>+Fs4mTvdKx</td>\n",
              "      <td>+Fs4mTvdKx</td>\n",
              "      <td>2012-05-08</td>\n",
              "      <td>23:01:31.0</td>\n",
              "    </tr>\n",
              "    <tr>\n",
              "      <th>2</th>\n",
              "      <td>Voice</td>\n",
              "      <td>10</td>\n",
              "      <td>2012-05-08 23:02:59.0</td>\n",
              "      <td>+ZaaZozy/+</td>\n",
              "      <td>+ZaaZozy/+</td>\n",
              "      <td>2012-05-08</td>\n",
              "      <td>23:02:59.0</td>\n",
              "    </tr>\n",
              "    <tr>\n",
              "      <th>3</th>\n",
              "      <td>sms</td>\n",
              "      <td>0</td>\n",
              "      <td>2012-05-08 23:03:04.0</td>\n",
              "      <td>+cNeJzsTp3</td>\n",
              "      <td>+cNeJzsTp3</td>\n",
              "      <td>2012-05-08</td>\n",
              "      <td>23:03:04.0</td>\n",
              "    </tr>\n",
              "    <tr>\n",
              "      <th>4</th>\n",
              "      <td>Voice</td>\n",
              "      <td>22</td>\n",
              "      <td>2012-05-08 23:03:16.0</td>\n",
              "      <td>/eeMklgyJA</td>\n",
              "      <td>/eeMklgyJA</td>\n",
              "      <td>2012-05-08</td>\n",
              "      <td>23:03:16.0</td>\n",
              "    </tr>\n",
              "  </tbody>\n",
              "</table>\n",
              "</div>"
            ],
            "text/plain": [
              "  PRODUCT  VALUE              DATE_TIME  ...     SITE_ID        DATE        TIME\n",
              "0   Voice     61  2012-05-08 23:01:28.0  ...  +38u2u/rfx  2012-05-08  23:01:28.0\n",
              "1     sms      0  2012-05-08 23:01:31.0  ...  +Fs4mTvdKx  2012-05-08  23:01:31.0\n",
              "2   Voice     10  2012-05-08 23:02:59.0  ...  +ZaaZozy/+  2012-05-08  23:02:59.0\n",
              "3     sms      0  2012-05-08 23:03:04.0  ...  +cNeJzsTp3  2012-05-08  23:03:04.0\n",
              "4   Voice     22  2012-05-08 23:03:16.0  ...  /eeMklgyJA  2012-05-08  23:03:16.0\n",
              "\n",
              "[5 rows x 7 columns]"
            ]
          },
          "metadata": {
            "tags": []
          },
          "execution_count": 31
        }
      ]
    },
    {
      "cell_type": "code",
      "metadata": {
        "id": "laaYJBUgTkA8",
        "colab_type": "code",
        "colab": {
          "base_uri": "https://localhost:8080/",
          "height": 225
        },
        "outputId": "b2aa44c4-3ab9-4e0a-f326-7fc61185cd6e"
      },
      "source": [
        "#Changing the format of the DATE and TIME columns\n",
        "print(pd.to_datetime(telecom_day3['DATE']).head())\n",
        "print(pd.to_datetime(telecom_day3['TIME']).head())"
      ],
      "execution_count": 32,
      "outputs": [
        {
          "output_type": "stream",
          "text": [
            "0   2012-05-08\n",
            "1   2012-05-08\n",
            "2   2012-05-08\n",
            "3   2012-05-08\n",
            "4   2012-05-08\n",
            "Name: DATE, dtype: datetime64[ns]\n",
            "0   2019-07-12 23:01:28\n",
            "1   2019-07-12 23:01:31\n",
            "2   2019-07-12 23:02:59\n",
            "3   2019-07-12 23:03:04\n",
            "4   2019-07-12 23:03:16\n",
            "Name: TIME, dtype: datetime64[ns]\n"
          ],
          "name": "stdout"
        }
      ]
    },
    {
      "cell_type": "code",
      "metadata": {
        "id": "825R5vuXVZae",
        "colab_type": "code",
        "colab": {
          "base_uri": "https://localhost:8080/",
          "height": 202
        },
        "outputId": "89f7efdb-aeca-42a4-ba31-f609d378fd42"
      },
      "source": [
        "# We integrate the datasets by concatenating the three days datasets using the concat() fuction.\n",
        "\n",
        "combined_df = pd.concat([telecom_day1, telecom_day2, telecom_day3], keys= ['x','y','z'], sort = True)\n",
        "\n",
        "combined_df.head()"
      ],
      "execution_count": 33,
      "outputs": [
        {
          "output_type": "execute_result",
          "data": {
            "text/html": [
              "<div>\n",
              "<style scoped>\n",
              "    .dataframe tbody tr th:only-of-type {\n",
              "        vertical-align: middle;\n",
              "    }\n",
              "\n",
              "    .dataframe tbody tr th {\n",
              "        vertical-align: top;\n",
              "    }\n",
              "\n",
              "    .dataframe thead th {\n",
              "        text-align: right;\n",
              "    }\n",
              "</style>\n",
              "<table border=\"1\" class=\"dataframe\">\n",
              "  <thead>\n",
              "    <tr style=\"text-align: right;\">\n",
              "      <th></th>\n",
              "      <th></th>\n",
              "      <th>CELL_ID</th>\n",
              "      <th>DATE</th>\n",
              "      <th>DATE_TIME</th>\n",
              "      <th>PRODUCT</th>\n",
              "      <th>SITE_ID</th>\n",
              "      <th>TIME</th>\n",
              "      <th>VALUE</th>\n",
              "    </tr>\n",
              "  </thead>\n",
              "  <tbody>\n",
              "    <tr>\n",
              "      <th rowspan=\"5\" valign=\"top\">x</th>\n",
              "      <th>0</th>\n",
              "      <td>/TJNe+Mmtu</td>\n",
              "      <td>2012-05-06</td>\n",
              "      <td>2012-05-06 23:04:37.0</td>\n",
              "      <td>Voice</td>\n",
              "      <td>/TJNe+Mmtu</td>\n",
              "      <td>23:04:37.0</td>\n",
              "      <td>0</td>\n",
              "    </tr>\n",
              "    <tr>\n",
              "      <th>1</th>\n",
              "      <td>/+cKZKIp41</td>\n",
              "      <td>2012-05-06</td>\n",
              "      <td>2012-05-06 23:05:25.0</td>\n",
              "      <td>sms</td>\n",
              "      <td>/+cKZKIp41</td>\n",
              "      <td>23:05:25.0</td>\n",
              "      <td>0</td>\n",
              "    </tr>\n",
              "    <tr>\n",
              "      <th>2</th>\n",
              "      <td>/u0FSD+ahi</td>\n",
              "      <td>2012-05-06</td>\n",
              "      <td>2012-05-06 23:05:41.0</td>\n",
              "      <td>sms</td>\n",
              "      <td>/u0FSD+ahi</td>\n",
              "      <td>23:05:41.0</td>\n",
              "      <td>25</td>\n",
              "    </tr>\n",
              "    <tr>\n",
              "      <th>3</th>\n",
              "      <td>+cNeJzsTp3</td>\n",
              "      <td>2012-05-06</td>\n",
              "      <td>2012-05-06 23:05:42.0</td>\n",
              "      <td>Voice</td>\n",
              "      <td>+cNeJzsTp3</td>\n",
              "      <td>23:05:42.0</td>\n",
              "      <td>56</td>\n",
              "    </tr>\n",
              "    <tr>\n",
              "      <th>4</th>\n",
              "      <td>051KhYDCpv</td>\n",
              "      <td>2012-05-06</td>\n",
              "      <td>2012-05-06 23:06:29.0</td>\n",
              "      <td>Voice</td>\n",
              "      <td>051KhYDCpv</td>\n",
              "      <td>23:06:29.0</td>\n",
              "      <td>14</td>\n",
              "    </tr>\n",
              "  </tbody>\n",
              "</table>\n",
              "</div>"
            ],
            "text/plain": [
              "        CELL_ID        DATE  ...        TIME VALUE\n",
              "x 0  /TJNe+Mmtu  2012-05-06  ...  23:04:37.0     0\n",
              "  1  /+cKZKIp41  2012-05-06  ...  23:05:25.0     0\n",
              "  2  /u0FSD+ahi  2012-05-06  ...  23:05:41.0    25\n",
              "  3  +cNeJzsTp3  2012-05-06  ...  23:05:42.0    56\n",
              "  4  051KhYDCpv  2012-05-06  ...  23:06:29.0    14\n",
              "\n",
              "[5 rows x 7 columns]"
            ]
          },
          "metadata": {
            "tags": []
          },
          "execution_count": 33
        }
      ]
    },
    {
      "cell_type": "code",
      "metadata": {
        "id": "RJBSFh9rytGf",
        "colab_type": "code",
        "colab": {
          "base_uri": "https://localhost:8080/",
          "height": 601
        },
        "outputId": "fbecf63a-1cc7-4ed9-c1c4-70c13f78ea4e"
      },
      "source": [
        "# Now we merge our combined DataFrame with the cells_geo DataFrame\n",
        "\n",
        "comprehende_df = combined_df.merge(new_geo, how='inner',left_on='CELL_ID', right_on = 'SITE_CODE')\n",
        "comprehende_df\n"
      ],
      "execution_count": 35,
      "outputs": [
        {
          "output_type": "execute_result",
          "data": {
            "text/html": [
              "<div>\n",
              "<style scoped>\n",
              "    .dataframe tbody tr th:only-of-type {\n",
              "        vertical-align: middle;\n",
              "    }\n",
              "\n",
              "    .dataframe tbody tr th {\n",
              "        vertical-align: top;\n",
              "    }\n",
              "\n",
              "    .dataframe thead th {\n",
              "        text-align: right;\n",
              "    }\n",
              "</style>\n",
              "<table border=\"1\" class=\"dataframe\">\n",
              "  <thead>\n",
              "    <tr style=\"text-align: right;\">\n",
              "      <th></th>\n",
              "      <th>CELL_ID_x</th>\n",
              "      <th>DATE</th>\n",
              "      <th>DATE_TIME</th>\n",
              "      <th>PRODUCT</th>\n",
              "      <th>SITE_ID</th>\n",
              "      <th>TIME</th>\n",
              "      <th>VALUE</th>\n",
              "      <th>VILLES</th>\n",
              "      <th>STATUS</th>\n",
              "      <th>LOCALISATION</th>\n",
              "      <th>CELL_ID_y</th>\n",
              "      <th>SITE_CODE</th>\n",
              "    </tr>\n",
              "  </thead>\n",
              "  <tbody>\n",
              "    <tr>\n",
              "      <th>0</th>\n",
              "      <td>7d41b1e068</td>\n",
              "      <td>2012-05-08</td>\n",
              "      <td>2012-05-08 00:07:02.0</td>\n",
              "      <td>Voice</td>\n",
              "      <td>NaN</td>\n",
              "      <td>00:07:02.0</td>\n",
              "      <td>0</td>\n",
              "      <td>NIAMANA</td>\n",
              "      <td>In Service</td>\n",
              "      <td>INTERIEUR</td>\n",
              "      <td>73611f7b1e</td>\n",
              "      <td>7d41b1e068</td>\n",
              "    </tr>\n",
              "    <tr>\n",
              "      <th>1</th>\n",
              "      <td>7d41b1e068</td>\n",
              "      <td>2012-05-08</td>\n",
              "      <td>2012-05-08 00:07:02.0</td>\n",
              "      <td>Voice</td>\n",
              "      <td>NaN</td>\n",
              "      <td>00:07:02.0</td>\n",
              "      <td>0</td>\n",
              "      <td>NIAMANA</td>\n",
              "      <td>In Service</td>\n",
              "      <td>INTERIEUR</td>\n",
              "      <td>3dddf304b3</td>\n",
              "      <td>7d41b1e068</td>\n",
              "    </tr>\n",
              "    <tr>\n",
              "      <th>2</th>\n",
              "      <td>7d41b1e068</td>\n",
              "      <td>2012-05-08</td>\n",
              "      <td>2012-05-08 00:07:02.0</td>\n",
              "      <td>Voice</td>\n",
              "      <td>NaN</td>\n",
              "      <td>00:07:02.0</td>\n",
              "      <td>0</td>\n",
              "      <td>NIAMANA</td>\n",
              "      <td>In Service</td>\n",
              "      <td>INTERIEUR</td>\n",
              "      <td>d0692f1086</td>\n",
              "      <td>7d41b1e068</td>\n",
              "    </tr>\n",
              "    <tr>\n",
              "      <th>3</th>\n",
              "      <td>7d41b1e068</td>\n",
              "      <td>2012-05-08</td>\n",
              "      <td>2012-05-08 00:07:02.0</td>\n",
              "      <td>Voice</td>\n",
              "      <td>NaN</td>\n",
              "      <td>00:07:02.0</td>\n",
              "      <td>0</td>\n",
              "      <td>NIAMANA</td>\n",
              "      <td>In Service</td>\n",
              "      <td>INTERIEUR</td>\n",
              "      <td>73611f7b1e</td>\n",
              "      <td>7d41b1e068</td>\n",
              "    </tr>\n",
              "    <tr>\n",
              "      <th>4</th>\n",
              "      <td>7d41b1e068</td>\n",
              "      <td>2012-05-08</td>\n",
              "      <td>2012-05-08 00:07:02.0</td>\n",
              "      <td>Voice</td>\n",
              "      <td>NaN</td>\n",
              "      <td>00:07:02.0</td>\n",
              "      <td>0</td>\n",
              "      <td>NIAMANA</td>\n",
              "      <td>In Service</td>\n",
              "      <td>INTERIEUR</td>\n",
              "      <td>3dddf304b3</td>\n",
              "      <td>7d41b1e068</td>\n",
              "    </tr>\n",
              "    <tr>\n",
              "      <th>5</th>\n",
              "      <td>7d41b1e068</td>\n",
              "      <td>2012-05-08</td>\n",
              "      <td>2012-05-08 00:07:02.0</td>\n",
              "      <td>Voice</td>\n",
              "      <td>NaN</td>\n",
              "      <td>00:07:02.0</td>\n",
              "      <td>0</td>\n",
              "      <td>NIAMANA</td>\n",
              "      <td>In Service</td>\n",
              "      <td>INTERIEUR</td>\n",
              "      <td>d0692f1086</td>\n",
              "      <td>7d41b1e068</td>\n",
              "    </tr>\n",
              "    <tr>\n",
              "      <th>6</th>\n",
              "      <td>7d41b1e068</td>\n",
              "      <td>2012-05-08</td>\n",
              "      <td>2012-05-08 00:07:02.0</td>\n",
              "      <td>Voice</td>\n",
              "      <td>NaN</td>\n",
              "      <td>00:07:02.0</td>\n",
              "      <td>0</td>\n",
              "      <td>NIAMANA</td>\n",
              "      <td>In Service</td>\n",
              "      <td>INTERIEUR</td>\n",
              "      <td>73611f7b1e</td>\n",
              "      <td>7d41b1e068</td>\n",
              "    </tr>\n",
              "    <tr>\n",
              "      <th>7</th>\n",
              "      <td>7d41b1e068</td>\n",
              "      <td>2012-05-08</td>\n",
              "      <td>2012-05-08 00:07:02.0</td>\n",
              "      <td>Voice</td>\n",
              "      <td>NaN</td>\n",
              "      <td>00:07:02.0</td>\n",
              "      <td>0</td>\n",
              "      <td>NIAMANA</td>\n",
              "      <td>In Service</td>\n",
              "      <td>INTERIEUR</td>\n",
              "      <td>3dddf304b3</td>\n",
              "      <td>7d41b1e068</td>\n",
              "    </tr>\n",
              "    <tr>\n",
              "      <th>8</th>\n",
              "      <td>7d41b1e068</td>\n",
              "      <td>2012-05-08</td>\n",
              "      <td>2012-05-08 00:07:02.0</td>\n",
              "      <td>Voice</td>\n",
              "      <td>NaN</td>\n",
              "      <td>00:07:02.0</td>\n",
              "      <td>0</td>\n",
              "      <td>NIAMANA</td>\n",
              "      <td>In Service</td>\n",
              "      <td>INTERIEUR</td>\n",
              "      <td>d0692f1086</td>\n",
              "      <td>7d41b1e068</td>\n",
              "    </tr>\n",
              "    <tr>\n",
              "      <th>9</th>\n",
              "      <td>7d41b1e068</td>\n",
              "      <td>2012-05-08</td>\n",
              "      <td>2012-05-08 00:07:02.0</td>\n",
              "      <td>Voice</td>\n",
              "      <td>NaN</td>\n",
              "      <td>00:07:02.0</td>\n",
              "      <td>0</td>\n",
              "      <td>NIAMANA</td>\n",
              "      <td>In Service</td>\n",
              "      <td>INTERIEUR</td>\n",
              "      <td>73611f7b1e</td>\n",
              "      <td>7d41b1e068</td>\n",
              "    </tr>\n",
              "    <tr>\n",
              "      <th>10</th>\n",
              "      <td>7d41b1e068</td>\n",
              "      <td>2012-05-08</td>\n",
              "      <td>2012-05-08 00:07:02.0</td>\n",
              "      <td>Voice</td>\n",
              "      <td>NaN</td>\n",
              "      <td>00:07:02.0</td>\n",
              "      <td>0</td>\n",
              "      <td>NIAMANA</td>\n",
              "      <td>In Service</td>\n",
              "      <td>INTERIEUR</td>\n",
              "      <td>3dddf304b3</td>\n",
              "      <td>7d41b1e068</td>\n",
              "    </tr>\n",
              "    <tr>\n",
              "      <th>11</th>\n",
              "      <td>7d41b1e068</td>\n",
              "      <td>2012-05-08</td>\n",
              "      <td>2012-05-08 00:07:02.0</td>\n",
              "      <td>Voice</td>\n",
              "      <td>NaN</td>\n",
              "      <td>00:07:02.0</td>\n",
              "      <td>0</td>\n",
              "      <td>NIAMANA</td>\n",
              "      <td>In Service</td>\n",
              "      <td>INTERIEUR</td>\n",
              "      <td>d0692f1086</td>\n",
              "      <td>7d41b1e068</td>\n",
              "    </tr>\n",
              "    <tr>\n",
              "      <th>12</th>\n",
              "      <td>7d41b1e068</td>\n",
              "      <td>2012-05-08</td>\n",
              "      <td>2012-05-08 00:07:02.0</td>\n",
              "      <td>Voice</td>\n",
              "      <td>NaN</td>\n",
              "      <td>00:07:02.0</td>\n",
              "      <td>0</td>\n",
              "      <td>NIAMANA</td>\n",
              "      <td>In Service</td>\n",
              "      <td>INTERIEUR</td>\n",
              "      <td>73611f7b1e</td>\n",
              "      <td>7d41b1e068</td>\n",
              "    </tr>\n",
              "    <tr>\n",
              "      <th>13</th>\n",
              "      <td>7d41b1e068</td>\n",
              "      <td>2012-05-08</td>\n",
              "      <td>2012-05-08 00:07:02.0</td>\n",
              "      <td>Voice</td>\n",
              "      <td>NaN</td>\n",
              "      <td>00:07:02.0</td>\n",
              "      <td>0</td>\n",
              "      <td>NIAMANA</td>\n",
              "      <td>In Service</td>\n",
              "      <td>INTERIEUR</td>\n",
              "      <td>3dddf304b3</td>\n",
              "      <td>7d41b1e068</td>\n",
              "    </tr>\n",
              "    <tr>\n",
              "      <th>14</th>\n",
              "      <td>7d41b1e068</td>\n",
              "      <td>2012-05-08</td>\n",
              "      <td>2012-05-08 00:07:02.0</td>\n",
              "      <td>Voice</td>\n",
              "      <td>NaN</td>\n",
              "      <td>00:07:02.0</td>\n",
              "      <td>0</td>\n",
              "      <td>NIAMANA</td>\n",
              "      <td>In Service</td>\n",
              "      <td>INTERIEUR</td>\n",
              "      <td>d0692f1086</td>\n",
              "      <td>7d41b1e068</td>\n",
              "    </tr>\n",
              "    <tr>\n",
              "      <th>15</th>\n",
              "      <td>70cb7af111</td>\n",
              "      <td>2012-05-09</td>\n",
              "      <td>2012-05-09 07:37:45.0</td>\n",
              "      <td>Voice</td>\n",
              "      <td>NaN</td>\n",
              "      <td>07:37:45.0</td>\n",
              "      <td>0</td>\n",
              "      <td>SANDEGUE</td>\n",
              "      <td>In Service</td>\n",
              "      <td>INTERIEUR</td>\n",
              "      <td>7528294781</td>\n",
              "      <td>70cb7af111</td>\n",
              "    </tr>\n",
              "    <tr>\n",
              "      <th>16</th>\n",
              "      <td>70cb7af111</td>\n",
              "      <td>2012-05-09</td>\n",
              "      <td>2012-05-09 07:37:45.0</td>\n",
              "      <td>Voice</td>\n",
              "      <td>NaN</td>\n",
              "      <td>07:37:45.0</td>\n",
              "      <td>0</td>\n",
              "      <td>SANDEGUE</td>\n",
              "      <td>In Service</td>\n",
              "      <td>INTERIEUR</td>\n",
              "      <td>b1a456e48c</td>\n",
              "      <td>70cb7af111</td>\n",
              "    </tr>\n",
              "    <tr>\n",
              "      <th>17</th>\n",
              "      <td>70cb7af111</td>\n",
              "      <td>2012-05-09</td>\n",
              "      <td>2012-05-09 07:37:45.0</td>\n",
              "      <td>Voice</td>\n",
              "      <td>NaN</td>\n",
              "      <td>07:37:45.0</td>\n",
              "      <td>0</td>\n",
              "      <td>SANDEGUE</td>\n",
              "      <td>In Service</td>\n",
              "      <td>INTERIEUR</td>\n",
              "      <td>5ee970ecd8</td>\n",
              "      <td>70cb7af111</td>\n",
              "    </tr>\n",
              "  </tbody>\n",
              "</table>\n",
              "</div>"
            ],
            "text/plain": [
              "     CELL_ID_x        DATE  ...   CELL_ID_y   SITE_CODE\n",
              "0   7d41b1e068  2012-05-08  ...  73611f7b1e  7d41b1e068\n",
              "1   7d41b1e068  2012-05-08  ...  3dddf304b3  7d41b1e068\n",
              "2   7d41b1e068  2012-05-08  ...  d0692f1086  7d41b1e068\n",
              "3   7d41b1e068  2012-05-08  ...  73611f7b1e  7d41b1e068\n",
              "4   7d41b1e068  2012-05-08  ...  3dddf304b3  7d41b1e068\n",
              "5   7d41b1e068  2012-05-08  ...  d0692f1086  7d41b1e068\n",
              "6   7d41b1e068  2012-05-08  ...  73611f7b1e  7d41b1e068\n",
              "7   7d41b1e068  2012-05-08  ...  3dddf304b3  7d41b1e068\n",
              "8   7d41b1e068  2012-05-08  ...  d0692f1086  7d41b1e068\n",
              "9   7d41b1e068  2012-05-08  ...  73611f7b1e  7d41b1e068\n",
              "10  7d41b1e068  2012-05-08  ...  3dddf304b3  7d41b1e068\n",
              "11  7d41b1e068  2012-05-08  ...  d0692f1086  7d41b1e068\n",
              "12  7d41b1e068  2012-05-08  ...  73611f7b1e  7d41b1e068\n",
              "13  7d41b1e068  2012-05-08  ...  3dddf304b3  7d41b1e068\n",
              "14  7d41b1e068  2012-05-08  ...  d0692f1086  7d41b1e068\n",
              "15  70cb7af111  2012-05-09  ...  7528294781  70cb7af111\n",
              "16  70cb7af111  2012-05-09  ...  b1a456e48c  70cb7af111\n",
              "17  70cb7af111  2012-05-09  ...  5ee970ecd8  70cb7af111\n",
              "\n",
              "[18 rows x 12 columns]"
            ]
          },
          "metadata": {
            "tags": []
          },
          "execution_count": 35
        }
      ]
    },
    {
      "cell_type": "markdown",
      "metadata": {
        "id": "agqCGQ5L9i_9",
        "colab_type": "text"
      },
      "source": [
        "# Data Analysis"
      ]
    },
    {
      "cell_type": "code",
      "metadata": {
        "id": "Pz2GxOplQpaL",
        "colab_type": "code",
        "colab": {
          "base_uri": "https://localhost:8080/",
          "height": 202
        },
        "outputId": "af0a60ed-092c-4496-f7fc-95076a53f5d1"
      },
      "source": [
        "# We use a pivot table to compare the products and the revenue they generate, and the price per unit\n",
        "\n",
        "pd.pivot_table(combined_df, index = ['PRODUCT'], values = ['VALUE'],aggfunc =[np.sum, np.mean])"
      ],
      "execution_count": 38,
      "outputs": [
        {
          "output_type": "execute_result",
          "data": {
            "text/html": [
              "<div>\n",
              "<style scoped>\n",
              "    .dataframe tbody tr th:only-of-type {\n",
              "        vertical-align: middle;\n",
              "    }\n",
              "\n",
              "    .dataframe tbody tr th {\n",
              "        vertical-align: top;\n",
              "    }\n",
              "\n",
              "    .dataframe thead tr th {\n",
              "        text-align: left;\n",
              "    }\n",
              "\n",
              "    .dataframe thead tr:last-of-type th {\n",
              "        text-align: right;\n",
              "    }\n",
              "</style>\n",
              "<table border=\"1\" class=\"dataframe\">\n",
              "  <thead>\n",
              "    <tr>\n",
              "      <th></th>\n",
              "      <th>sum</th>\n",
              "      <th>mean</th>\n",
              "    </tr>\n",
              "    <tr>\n",
              "      <th></th>\n",
              "      <th>VALUE</th>\n",
              "      <th>VALUE</th>\n",
              "    </tr>\n",
              "    <tr>\n",
              "      <th>PRODUCT</th>\n",
              "      <th></th>\n",
              "      <th></th>\n",
              "    </tr>\n",
              "  </thead>\n",
              "  <tbody>\n",
              "    <tr>\n",
              "      <th>Voice</th>\n",
              "      <td>71301725</td>\n",
              "      <td>51.839400</td>\n",
              "    </tr>\n",
              "    <tr>\n",
              "      <th>data</th>\n",
              "      <td>908457</td>\n",
              "      <td>3.555967</td>\n",
              "    </tr>\n",
              "    <tr>\n",
              "      <th>sms</th>\n",
              "      <td>2609835</td>\n",
              "      <td>1.906254</td>\n",
              "    </tr>\n",
              "  </tbody>\n",
              "</table>\n",
              "</div>"
            ],
            "text/plain": [
              "              sum       mean\n",
              "            VALUE      VALUE\n",
              "PRODUCT                     \n",
              "Voice    71301725  51.839400\n",
              "data       908457   3.555967\n",
              "sms       2609835   1.906254"
            ]
          },
          "metadata": {
            "tags": []
          },
          "execution_count": 38
        }
      ]
    },
    {
      "cell_type": "code",
      "metadata": {
        "id": "FWOMcJKFRzp1",
        "colab_type": "code",
        "colab": {
          "base_uri": "https://localhost:8080/",
          "height": 399
        },
        "outputId": "7410023f-c736-4839-f885-f7d7876045b7"
      },
      "source": [
        "#Next we will determine the city with the highest frequency of users\n",
        "\n",
        "new_geo.groupby(['VILLES'])['STATUS'].count().sort_values(ascending = False).head(20)"
      ],
      "execution_count": 48,
      "outputs": [
        {
          "output_type": "execute_result",
          "data": {
            "text/plain": [
              "VILLES\n",
              "COCODY          354\n",
              "YOPOUGON        289\n",
              "ABOBO           250\n",
              "MARCORY         141\n",
              "TREICHVILLE     132\n",
              "ADJAME          109\n",
              "YAMOUSSOUKRO    104\n",
              "PLATEAU         103\n",
              "KOUMASSI         91\n",
              "BOUAKE           65\n",
              "PORT-BOUET       59\n",
              "DALOA            59\n",
              "SAN-PEDRO        55\n",
              "GAGNOA           55\n",
              "ATTECOUBE        45\n",
              "DIVO             36\n",
              "KORHOGO          32\n",
              "BINGERVILLE      30\n",
              "SOUBRE           28\n",
              "GUIGLO           27\n",
              "Name: STATUS, dtype: int64"
            ]
          },
          "metadata": {
            "tags": []
          },
          "execution_count": 48
        }
      ]
    },
    {
      "cell_type": "code",
      "metadata": {
        "id": "mlAAc1VLVbfm",
        "colab_type": "code",
        "colab": {
          "base_uri": "https://localhost:8080/",
          "height": 87
        },
        "outputId": "2b829ae4-56e8-455d-b1dd-709e8d852769"
      },
      "source": [
        "#from the cells geo dataframe lets determine the localization of the majority of users\n",
        "\n",
        "geo_df.groupby(['LOCALISATION'])['VILLES'].count()"
      ],
      "execution_count": 50,
      "outputs": [
        {
          "output_type": "execute_result",
          "data": {
            "text/plain": [
              "LOCALISATION\n",
              "ABIDJAN      1669\n",
              "INTERIEUR    2305\n",
              "Name: VILLES, dtype: int64"
            ]
          },
          "metadata": {
            "tags": []
          },
          "execution_count": 50
        }
      ]
    },
    {
      "cell_type": "code",
      "metadata": {
        "id": "7a7tk2YfYTJi",
        "colab_type": "code",
        "colab": {}
      },
      "source": [
        ""
      ],
      "execution_count": 0,
      "outputs": []
    }
  ]
}